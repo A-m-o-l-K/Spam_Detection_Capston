{
  "cells": [
    {
      "cell_type": "markdown",
      "metadata": {
        "id": "a18a4e97"
      },
      "source": [
        "#### Amol Kaushik\n",
        "#### kaushikamol@gmail.com\n",
        "\n",
        "# Capstone - Spam Review Detection\n",
        "## Amazon Dataset for Cell Phones and Accessories Reviews\n",
        "\n",
        "# Notebook 3 - Advanced Modelling\n",
        "### Notebook: 3/3\n",
        "\n",
        "# Table Of Contents\n",
        "\n",
        "1. [Introduction](#Introduction)\n",
        "2. [Data Dictionary](#DataDictionary)\n",
        "3. [Data Setup](#DataSetup)\n",
        "    * Load Data\n",
        "    * Data Checks/Exploration\n",
        "    * Data Split\n",
        "4. [Modelling](#Modelling)\n",
        "    * Baseline LogisticRegression\n",
        "2. [Advanced Modelling](#AdvModelling)\n",
        "    * ML Pipeline + GridSearch\n",
        "    * Best Models and Params\n",
        "    * Model Evaluation and Comparison\n",
        "    * Final Model\n",
        "3. [Conclusion](#Conclusion)"
      ]
    },
    {
      "cell_type": "code",
      "execution_count": 5,
      "metadata": {
        "id": "6a11a221"
      },
      "outputs": [],
      "source": [
        "# import relevant packages\n",
        "import pandas as pd\n",
        "import numpy as np\n",
        "import matplotlib.pyplot as plt\n",
        "import seaborn as sns\n",
        "sns.set_theme() #setting the theme for the plots"
      ]
    },
    {
      "cell_type": "markdown",
      "metadata": {
        "id": "e4461a4d"
      },
      "source": [
        "# 1 - Introduction<a id = 'Introduction'></a>\n",
        "\n",
        "### Objective of Capstone Project:\n",
        "I aim to build an accurate and effective ML model to identify Spam Reviews posted on Amazon for purchased products.\n",
        "\n",
        "### What value does this project bring:\n",
        "This project aims to reduce the sale of sub-par products that get highly recommended on the basis of fake/spam reviews and ratings."
      ]
    },
    {
      "cell_type": "markdown",
      "metadata": {
        "id": "AzaIW0DYKOjl"
      },
      "source": [
        "# 2 - Data Dictionary:\n",
        "- helpful: Votes for the extent of Helpfulness of the review [Positive, Negative]\n",
        "- reviewText: The review posted by the reviewer/customer (Vectorized)\n",
        "- summary: Provides a brief summary of the Product Review (Vectorized)\n",
        "- class: Spam identifier (0 = not spam, 1 = spam)"
      ]
    },
    {
      "cell_type": "markdown",
      "metadata": {
        "id": "a22b02c8"
      },
      "source": [
        "Lets import the libraries:"
      ]
    },
    {
      "cell_type": "code",
      "execution_count": 6,
      "metadata": {
        "id": "EMHThrmpS-Bp"
      },
      "outputs": [],
      "source": [
        "from sklearn.model_selection import train_test_split\n",
        "from sklearn.pipeline import Pipeline\n",
        "from sklearn.model_selection import GridSearchCV\n",
        "from sklearn.linear_model import LogisticRegression\n",
        "from sklearn.svm import SVC\n",
        "from sklearn.svm import LinearSVC\n",
        "from sklearn.model_selection import cross_val_score\n",
        "from sklearn.model_selection import GridSearchCV\n",
        "from sklearn.preprocessing import StandardScaler, MinMaxScaler\n",
        "from sklearn.decomposition import PCA, KernelPCA\n",
        "import warnings\n",
        "warnings.filterwarnings(\"ignore\")\n",
        "from sklearn.ensemble import RandomForestClassifier\n",
        "from xgboost import XGBClassifier"
      ]
    },
    {
      "cell_type": "markdown",
      "metadata": {
        "id": "4c7d091AS-Bp"
      },
      "source": [
        "# 3 - Data Setup\n",
        "\n",
        "### Loading the Data\n",
        "The datasets are the TF-IDF Vectorised versions saved at the conclusion of Notebook 2.\n",
        "Loading the cleaned dataset from the previous notebook:"
      ]
    },
    {
      "cell_type": "markdown",
      "metadata": {},
      "source": [
        "If working on Google Colab, load the data via code below:"
      ]
    },
    {
      "cell_type": "code",
      "execution_count": 7,
      "metadata": {
        "colab": {
          "base_uri": "https://localhost:8080/"
        },
        "id": "G8GQYPgJTSB_",
        "outputId": "6d82b697-b476-4b8a-85e3-2158bbc38282"
      },
      "outputs": [
        {
          "name": "stdout",
          "output_type": "stream",
          "text": [
            "Mounted at /content/drive\n"
          ]
        }
      ],
      "source": [
        "#Mounting Google Drive\n",
        "from google.colab import drive\n",
        "drive.mount('/content/drive')"
      ]
    },
    {
      "cell_type": "code",
      "execution_count": 8,
      "metadata": {
        "id": "ipJPye3ebEAG"
      },
      "outputs": [],
      "source": [
        "# Load the saved CSVs from notebook 2 on Google Drive\n",
        "X_remainder = pd.read_csv('/content/drive/MyDrive/Data Science Bootcamp/Capstone/Spam Detection/Final Submission/Data/X_remainder_vect_tfidf.csv')\n",
        "X_test = pd.read_csv('/content/drive/MyDrive/Data Science Bootcamp/Capstone/Spam Detection/Final Submission/Data/X_test_vect_tfidf.csv')\n",
        "y_remainder = pd.read_csv('/content/drive/MyDrive/Data Science Bootcamp/Capstone/Spam Detection/Final Submission/Data/y_remainder.csv')\n",
        "y_test = pd.read_csv('/content/drive/MyDrive/Data Science Bootcamp/Capstone/Spam Detection/Final Submission/Data/y_test.csv')"
      ]
    },
    {
      "cell_type": "markdown",
      "metadata": {},
      "source": [
        "If working from a local machine, load the data via code below:"
      ]
    },
    {
      "cell_type": "code",
      "execution_count": 9,
      "metadata": {
        "id": "Qm76wxa_S-Bp"
      },
      "outputs": [],
      "source": [
        "# # Load the saved CSVs from notebook 2\n",
        "# X_remainder = pd.read_csv('Data/X_remainder_vect_tfidf.csv')\n",
        "# X_test = pd.read_csv('Data/X_test_vect_tfidf.csv')\n",
        "# y_remainder = pd.read_csv('Data/y_remainder.csv')\n",
        "# y_test = pd.read_csv('Data/y_test.csv')"
      ]
    },
    {
      "cell_type": "markdown",
      "metadata": {
        "id": "zIIMYxn3S-Bp"
      },
      "source": [
        "### Data Checks/Exploration\n",
        "\n",
        "Lets do a quick check for missing data on the datasets:"
      ]
    },
    {
      "cell_type": "code",
      "execution_count": 10,
      "metadata": {
        "colab": {
          "base_uri": "https://localhost:8080/"
        },
        "id": "Ej1YJgYVS-Bq",
        "outputId": "d421ba1f-7891-455b-8afd-ea493dd40ffc"
      },
      "outputs": [
        {
          "name": "stdout",
          "output_type": "stream",
          "text": [
            "0\n",
            "0\n",
            "0\n",
            "0\n"
          ]
        }
      ],
      "source": [
        "# Checking to see if there is any missing data\n",
        "print(X_remainder.isna().sum().sum())\n",
        "print(X_test.isna().sum().sum())\n",
        "print(y_remainder.isna().sum().sum())\n",
        "print(y_test.isna().sum().sum())"
      ]
    },
    {
      "cell_type": "code",
      "execution_count": 11,
      "metadata": {
        "colab": {
          "base_uri": "https://localhost:8080/",
          "height": 424
        },
        "id": "RVw4NkR7S-Bq",
        "outputId": "d4005469-8173-4749-b4c0-2f404330fcc4"
      },
      "outputs": [
        {
          "data": {
            "text/html": [
              "\n",
              "  <div id=\"df-62acd41b-ee2e-474f-b011-27406e586c1b\">\n",
              "    <div class=\"colab-df-container\">\n",
              "      <div>\n",
              "<style scoped>\n",
              "    .dataframe tbody tr th:only-of-type {\n",
              "        vertical-align: middle;\n",
              "    }\n",
              "\n",
              "    .dataframe tbody tr th {\n",
              "        vertical-align: top;\n",
              "    }\n",
              "\n",
              "    .dataframe thead th {\n",
              "        text-align: right;\n",
              "    }\n",
              "</style>\n",
              "<table border=\"1\" class=\"dataframe\">\n",
              "  <thead>\n",
              "    <tr style=\"text-align: right;\">\n",
              "      <th></th>\n",
              "      <th>help_neg</th>\n",
              "      <th>help_pos</th>\n",
              "      <th>r_00</th>\n",
              "      <th>r_10</th>\n",
              "      <th>r_100</th>\n",
              "      <th>r_12</th>\n",
              "      <th>r_15</th>\n",
              "      <th>r_20</th>\n",
              "      <th>r_30</th>\n",
              "      <th>r_34</th>\n",
              "      <th>...</th>\n",
              "      <th>s_wrong</th>\n",
              "      <th>s_yay</th>\n",
              "      <th>s_year</th>\n",
              "      <th>s_years</th>\n",
              "      <th>s_yellow</th>\n",
              "      <th>s_yes</th>\n",
              "      <th>s_zagg</th>\n",
              "      <th>s_zebra</th>\n",
              "      <th>s_zero</th>\n",
              "      <th>s_zte</th>\n",
              "    </tr>\n",
              "  </thead>\n",
              "  <tbody>\n",
              "    <tr>\n",
              "      <th>0</th>\n",
              "      <td>0</td>\n",
              "      <td>0</td>\n",
              "      <td>0.0</td>\n",
              "      <td>0.0</td>\n",
              "      <td>0.0</td>\n",
              "      <td>0.0</td>\n",
              "      <td>0.0</td>\n",
              "      <td>0.000000</td>\n",
              "      <td>0.000000</td>\n",
              "      <td>0.0</td>\n",
              "      <td>...</td>\n",
              "      <td>0.0</td>\n",
              "      <td>0.0</td>\n",
              "      <td>0.0</td>\n",
              "      <td>0.0</td>\n",
              "      <td>0.0</td>\n",
              "      <td>0.0</td>\n",
              "      <td>0.0</td>\n",
              "      <td>0.0</td>\n",
              "      <td>0.0</td>\n",
              "      <td>0.0</td>\n",
              "    </tr>\n",
              "    <tr>\n",
              "      <th>1</th>\n",
              "      <td>0</td>\n",
              "      <td>0</td>\n",
              "      <td>0.0</td>\n",
              "      <td>0.0</td>\n",
              "      <td>0.0</td>\n",
              "      <td>0.0</td>\n",
              "      <td>0.0</td>\n",
              "      <td>0.000000</td>\n",
              "      <td>0.000000</td>\n",
              "      <td>0.0</td>\n",
              "      <td>...</td>\n",
              "      <td>0.0</td>\n",
              "      <td>0.0</td>\n",
              "      <td>0.0</td>\n",
              "      <td>0.0</td>\n",
              "      <td>0.0</td>\n",
              "      <td>0.0</td>\n",
              "      <td>0.0</td>\n",
              "      <td>0.0</td>\n",
              "      <td>0.0</td>\n",
              "      <td>0.0</td>\n",
              "    </tr>\n",
              "    <tr>\n",
              "      <th>2</th>\n",
              "      <td>2</td>\n",
              "      <td>1</td>\n",
              "      <td>0.0</td>\n",
              "      <td>0.0</td>\n",
              "      <td>0.0</td>\n",
              "      <td>0.0</td>\n",
              "      <td>0.0</td>\n",
              "      <td>0.000000</td>\n",
              "      <td>0.000000</td>\n",
              "      <td>0.0</td>\n",
              "      <td>...</td>\n",
              "      <td>0.0</td>\n",
              "      <td>0.0</td>\n",
              "      <td>0.0</td>\n",
              "      <td>0.0</td>\n",
              "      <td>0.0</td>\n",
              "      <td>0.0</td>\n",
              "      <td>0.0</td>\n",
              "      <td>0.0</td>\n",
              "      <td>0.0</td>\n",
              "      <td>0.0</td>\n",
              "    </tr>\n",
              "    <tr>\n",
              "      <th>3</th>\n",
              "      <td>0</td>\n",
              "      <td>0</td>\n",
              "      <td>0.0</td>\n",
              "      <td>0.0</td>\n",
              "      <td>0.0</td>\n",
              "      <td>0.0</td>\n",
              "      <td>0.0</td>\n",
              "      <td>0.000000</td>\n",
              "      <td>0.266453</td>\n",
              "      <td>0.0</td>\n",
              "      <td>...</td>\n",
              "      <td>0.0</td>\n",
              "      <td>0.0</td>\n",
              "      <td>0.0</td>\n",
              "      <td>0.0</td>\n",
              "      <td>0.0</td>\n",
              "      <td>0.0</td>\n",
              "      <td>0.0</td>\n",
              "      <td>0.0</td>\n",
              "      <td>0.0</td>\n",
              "      <td>0.0</td>\n",
              "    </tr>\n",
              "    <tr>\n",
              "      <th>4</th>\n",
              "      <td>0</td>\n",
              "      <td>0</td>\n",
              "      <td>0.0</td>\n",
              "      <td>0.0</td>\n",
              "      <td>0.0</td>\n",
              "      <td>0.0</td>\n",
              "      <td>0.0</td>\n",
              "      <td>0.000000</td>\n",
              "      <td>0.000000</td>\n",
              "      <td>0.0</td>\n",
              "      <td>...</td>\n",
              "      <td>0.0</td>\n",
              "      <td>0.0</td>\n",
              "      <td>0.0</td>\n",
              "      <td>0.0</td>\n",
              "      <td>0.0</td>\n",
              "      <td>0.0</td>\n",
              "      <td>0.0</td>\n",
              "      <td>0.0</td>\n",
              "      <td>0.0</td>\n",
              "      <td>0.0</td>\n",
              "    </tr>\n",
              "    <tr>\n",
              "      <th>...</th>\n",
              "      <td>...</td>\n",
              "      <td>...</td>\n",
              "      <td>...</td>\n",
              "      <td>...</td>\n",
              "      <td>...</td>\n",
              "      <td>...</td>\n",
              "      <td>...</td>\n",
              "      <td>...</td>\n",
              "      <td>...</td>\n",
              "      <td>...</td>\n",
              "      <td>...</td>\n",
              "      <td>...</td>\n",
              "      <td>...</td>\n",
              "      <td>...</td>\n",
              "      <td>...</td>\n",
              "      <td>...</td>\n",
              "      <td>...</td>\n",
              "      <td>...</td>\n",
              "      <td>...</td>\n",
              "      <td>...</td>\n",
              "      <td>...</td>\n",
              "    </tr>\n",
              "    <tr>\n",
              "      <th>55526</th>\n",
              "      <td>0</td>\n",
              "      <td>0</td>\n",
              "      <td>0.0</td>\n",
              "      <td>0.0</td>\n",
              "      <td>0.0</td>\n",
              "      <td>0.0</td>\n",
              "      <td>0.0</td>\n",
              "      <td>0.000000</td>\n",
              "      <td>0.000000</td>\n",
              "      <td>0.0</td>\n",
              "      <td>...</td>\n",
              "      <td>0.0</td>\n",
              "      <td>0.0</td>\n",
              "      <td>0.0</td>\n",
              "      <td>0.0</td>\n",
              "      <td>0.0</td>\n",
              "      <td>0.0</td>\n",
              "      <td>0.0</td>\n",
              "      <td>0.0</td>\n",
              "      <td>0.0</td>\n",
              "      <td>0.0</td>\n",
              "    </tr>\n",
              "    <tr>\n",
              "      <th>55527</th>\n",
              "      <td>0</td>\n",
              "      <td>0</td>\n",
              "      <td>0.0</td>\n",
              "      <td>0.0</td>\n",
              "      <td>0.0</td>\n",
              "      <td>0.0</td>\n",
              "      <td>0.0</td>\n",
              "      <td>0.000000</td>\n",
              "      <td>0.000000</td>\n",
              "      <td>0.0</td>\n",
              "      <td>...</td>\n",
              "      <td>0.0</td>\n",
              "      <td>0.0</td>\n",
              "      <td>0.0</td>\n",
              "      <td>0.0</td>\n",
              "      <td>0.0</td>\n",
              "      <td>0.0</td>\n",
              "      <td>0.0</td>\n",
              "      <td>0.0</td>\n",
              "      <td>0.0</td>\n",
              "      <td>0.0</td>\n",
              "    </tr>\n",
              "    <tr>\n",
              "      <th>55528</th>\n",
              "      <td>2</td>\n",
              "      <td>1</td>\n",
              "      <td>0.0</td>\n",
              "      <td>0.0</td>\n",
              "      <td>0.0</td>\n",
              "      <td>0.0</td>\n",
              "      <td>0.0</td>\n",
              "      <td>0.341621</td>\n",
              "      <td>0.000000</td>\n",
              "      <td>0.0</td>\n",
              "      <td>...</td>\n",
              "      <td>0.0</td>\n",
              "      <td>0.0</td>\n",
              "      <td>0.0</td>\n",
              "      <td>0.0</td>\n",
              "      <td>0.0</td>\n",
              "      <td>0.0</td>\n",
              "      <td>0.0</td>\n",
              "      <td>0.0</td>\n",
              "      <td>0.0</td>\n",
              "      <td>0.0</td>\n",
              "    </tr>\n",
              "    <tr>\n",
              "      <th>55529</th>\n",
              "      <td>0</td>\n",
              "      <td>0</td>\n",
              "      <td>0.0</td>\n",
              "      <td>0.0</td>\n",
              "      <td>0.0</td>\n",
              "      <td>0.0</td>\n",
              "      <td>0.0</td>\n",
              "      <td>0.000000</td>\n",
              "      <td>0.000000</td>\n",
              "      <td>0.0</td>\n",
              "      <td>...</td>\n",
              "      <td>0.0</td>\n",
              "      <td>0.0</td>\n",
              "      <td>0.0</td>\n",
              "      <td>0.0</td>\n",
              "      <td>0.0</td>\n",
              "      <td>0.0</td>\n",
              "      <td>0.0</td>\n",
              "      <td>0.0</td>\n",
              "      <td>0.0</td>\n",
              "      <td>0.0</td>\n",
              "    </tr>\n",
              "    <tr>\n",
              "      <th>55530</th>\n",
              "      <td>1</td>\n",
              "      <td>1</td>\n",
              "      <td>0.0</td>\n",
              "      <td>0.0</td>\n",
              "      <td>0.0</td>\n",
              "      <td>0.0</td>\n",
              "      <td>0.0</td>\n",
              "      <td>0.000000</td>\n",
              "      <td>0.000000</td>\n",
              "      <td>0.0</td>\n",
              "      <td>...</td>\n",
              "      <td>0.0</td>\n",
              "      <td>0.0</td>\n",
              "      <td>0.0</td>\n",
              "      <td>0.0</td>\n",
              "      <td>0.0</td>\n",
              "      <td>0.0</td>\n",
              "      <td>0.0</td>\n",
              "      <td>0.0</td>\n",
              "      <td>0.0</td>\n",
              "      <td>0.0</td>\n",
              "    </tr>\n",
              "  </tbody>\n",
              "</table>\n",
              "<p>55531 rows × 1892 columns</p>\n",
              "</div>\n",
              "      <button class=\"colab-df-convert\" onclick=\"convertToInteractive('df-62acd41b-ee2e-474f-b011-27406e586c1b')\"\n",
              "              title=\"Convert this dataframe to an interactive table.\"\n",
              "              style=\"display:none;\">\n",
              "        \n",
              "  <svg xmlns=\"http://www.w3.org/2000/svg\" height=\"24px\"viewBox=\"0 0 24 24\"\n",
              "       width=\"24px\">\n",
              "    <path d=\"M0 0h24v24H0V0z\" fill=\"none\"/>\n",
              "    <path d=\"M18.56 5.44l.94 2.06.94-2.06 2.06-.94-2.06-.94-.94-2.06-.94 2.06-2.06.94zm-11 1L8.5 8.5l.94-2.06 2.06-.94-2.06-.94L8.5 2.5l-.94 2.06-2.06.94zm10 10l.94 2.06.94-2.06 2.06-.94-2.06-.94-.94-2.06-.94 2.06-2.06.94z\"/><path d=\"M17.41 7.96l-1.37-1.37c-.4-.4-.92-.59-1.43-.59-.52 0-1.04.2-1.43.59L10.3 9.45l-7.72 7.72c-.78.78-.78 2.05 0 2.83L4 21.41c.39.39.9.59 1.41.59.51 0 1.02-.2 1.41-.59l7.78-7.78 2.81-2.81c.8-.78.8-2.07 0-2.86zM5.41 20L4 18.59l7.72-7.72 1.47 1.35L5.41 20z\"/>\n",
              "  </svg>\n",
              "      </button>\n",
              "      \n",
              "  <style>\n",
              "    .colab-df-container {\n",
              "      display:flex;\n",
              "      flex-wrap:wrap;\n",
              "      gap: 12px;\n",
              "    }\n",
              "\n",
              "    .colab-df-convert {\n",
              "      background-color: #E8F0FE;\n",
              "      border: none;\n",
              "      border-radius: 50%;\n",
              "      cursor: pointer;\n",
              "      display: none;\n",
              "      fill: #1967D2;\n",
              "      height: 32px;\n",
              "      padding: 0 0 0 0;\n",
              "      width: 32px;\n",
              "    }\n",
              "\n",
              "    .colab-df-convert:hover {\n",
              "      background-color: #E2EBFA;\n",
              "      box-shadow: 0px 1px 2px rgba(60, 64, 67, 0.3), 0px 1px 3px 1px rgba(60, 64, 67, 0.15);\n",
              "      fill: #174EA6;\n",
              "    }\n",
              "\n",
              "    [theme=dark] .colab-df-convert {\n",
              "      background-color: #3B4455;\n",
              "      fill: #D2E3FC;\n",
              "    }\n",
              "\n",
              "    [theme=dark] .colab-df-convert:hover {\n",
              "      background-color: #434B5C;\n",
              "      box-shadow: 0px 1px 3px 1px rgba(0, 0, 0, 0.15);\n",
              "      filter: drop-shadow(0px 1px 2px rgba(0, 0, 0, 0.3));\n",
              "      fill: #FFFFFF;\n",
              "    }\n",
              "  </style>\n",
              "\n",
              "      <script>\n",
              "        const buttonEl =\n",
              "          document.querySelector('#df-62acd41b-ee2e-474f-b011-27406e586c1b button.colab-df-convert');\n",
              "        buttonEl.style.display =\n",
              "          google.colab.kernel.accessAllowed ? 'block' : 'none';\n",
              "\n",
              "        async function convertToInteractive(key) {\n",
              "          const element = document.querySelector('#df-62acd41b-ee2e-474f-b011-27406e586c1b');\n",
              "          const dataTable =\n",
              "            await google.colab.kernel.invokeFunction('convertToInteractive',\n",
              "                                                     [key], {});\n",
              "          if (!dataTable) return;\n",
              "\n",
              "          const docLinkHtml = 'Like what you see? Visit the ' +\n",
              "            '<a target=\"_blank\" href=https://colab.research.google.com/notebooks/data_table.ipynb>data table notebook</a>'\n",
              "            + ' to learn more about interactive tables.';\n",
              "          element.innerHTML = '';\n",
              "          dataTable['output_type'] = 'display_data';\n",
              "          await google.colab.output.renderOutput(dataTable, element);\n",
              "          const docLink = document.createElement('div');\n",
              "          docLink.innerHTML = docLinkHtml;\n",
              "          element.appendChild(docLink);\n",
              "        }\n",
              "      </script>\n",
              "    </div>\n",
              "  </div>\n",
              "  "
            ],
            "text/plain": [
              "       help_neg  help_pos  r_00  r_10  r_100  r_12  r_15      r_20      r_30  \\\n",
              "0             0         0   0.0   0.0    0.0   0.0   0.0  0.000000  0.000000   \n",
              "1             0         0   0.0   0.0    0.0   0.0   0.0  0.000000  0.000000   \n",
              "2             2         1   0.0   0.0    0.0   0.0   0.0  0.000000  0.000000   \n",
              "3             0         0   0.0   0.0    0.0   0.0   0.0  0.000000  0.266453   \n",
              "4             0         0   0.0   0.0    0.0   0.0   0.0  0.000000  0.000000   \n",
              "...         ...       ...   ...   ...    ...   ...   ...       ...       ...   \n",
              "55526         0         0   0.0   0.0    0.0   0.0   0.0  0.000000  0.000000   \n",
              "55527         0         0   0.0   0.0    0.0   0.0   0.0  0.000000  0.000000   \n",
              "55528         2         1   0.0   0.0    0.0   0.0   0.0  0.341621  0.000000   \n",
              "55529         0         0   0.0   0.0    0.0   0.0   0.0  0.000000  0.000000   \n",
              "55530         1         1   0.0   0.0    0.0   0.0   0.0  0.000000  0.000000   \n",
              "\n",
              "       r_34  ...  s_wrong  s_yay  s_year  s_years  s_yellow  s_yes  s_zagg  \\\n",
              "0       0.0  ...      0.0    0.0     0.0      0.0       0.0    0.0     0.0   \n",
              "1       0.0  ...      0.0    0.0     0.0      0.0       0.0    0.0     0.0   \n",
              "2       0.0  ...      0.0    0.0     0.0      0.0       0.0    0.0     0.0   \n",
              "3       0.0  ...      0.0    0.0     0.0      0.0       0.0    0.0     0.0   \n",
              "4       0.0  ...      0.0    0.0     0.0      0.0       0.0    0.0     0.0   \n",
              "...     ...  ...      ...    ...     ...      ...       ...    ...     ...   \n",
              "55526   0.0  ...      0.0    0.0     0.0      0.0       0.0    0.0     0.0   \n",
              "55527   0.0  ...      0.0    0.0     0.0      0.0       0.0    0.0     0.0   \n",
              "55528   0.0  ...      0.0    0.0     0.0      0.0       0.0    0.0     0.0   \n",
              "55529   0.0  ...      0.0    0.0     0.0      0.0       0.0    0.0     0.0   \n",
              "55530   0.0  ...      0.0    0.0     0.0      0.0       0.0    0.0     0.0   \n",
              "\n",
              "       s_zebra  s_zero  s_zte  \n",
              "0          0.0     0.0    0.0  \n",
              "1          0.0     0.0    0.0  \n",
              "2          0.0     0.0    0.0  \n",
              "3          0.0     0.0    0.0  \n",
              "4          0.0     0.0    0.0  \n",
              "...        ...     ...    ...  \n",
              "55526      0.0     0.0    0.0  \n",
              "55527      0.0     0.0    0.0  \n",
              "55528      0.0     0.0    0.0  \n",
              "55529      0.0     0.0    0.0  \n",
              "55530      0.0     0.0    0.0  \n",
              "\n",
              "[55531 rows x 1892 columns]"
            ]
          },
          "execution_count": 11,
          "metadata": {},
          "output_type": "execute_result"
        }
      ],
      "source": [
        "X_remainder"
      ]
    },
    {
      "cell_type": "code",
      "execution_count": 12,
      "metadata": {
        "colab": {
          "base_uri": "https://localhost:8080/",
          "height": 424
        },
        "id": "LVTRfUGDS-Bq",
        "outputId": "521e3ae5-56c4-43cf-fb02-85a460996376"
      },
      "outputs": [
        {
          "data": {
            "text/html": [
              "\n",
              "  <div id=\"df-14097643-8d9c-46ac-8ab3-8f4fccd2970f\">\n",
              "    <div class=\"colab-df-container\">\n",
              "      <div>\n",
              "<style scoped>\n",
              "    .dataframe tbody tr th:only-of-type {\n",
              "        vertical-align: middle;\n",
              "    }\n",
              "\n",
              "    .dataframe tbody tr th {\n",
              "        vertical-align: top;\n",
              "    }\n",
              "\n",
              "    .dataframe thead th {\n",
              "        text-align: right;\n",
              "    }\n",
              "</style>\n",
              "<table border=\"1\" class=\"dataframe\">\n",
              "  <thead>\n",
              "    <tr style=\"text-align: right;\">\n",
              "      <th></th>\n",
              "      <th>help_neg</th>\n",
              "      <th>help_pos</th>\n",
              "      <th>r_00</th>\n",
              "      <th>r_10</th>\n",
              "      <th>r_100</th>\n",
              "      <th>r_12</th>\n",
              "      <th>r_15</th>\n",
              "      <th>r_20</th>\n",
              "      <th>r_30</th>\n",
              "      <th>r_34</th>\n",
              "      <th>...</th>\n",
              "      <th>s_wrong</th>\n",
              "      <th>s_yay</th>\n",
              "      <th>s_year</th>\n",
              "      <th>s_years</th>\n",
              "      <th>s_yellow</th>\n",
              "      <th>s_yes</th>\n",
              "      <th>s_zagg</th>\n",
              "      <th>s_zebra</th>\n",
              "      <th>s_zero</th>\n",
              "      <th>s_zte</th>\n",
              "    </tr>\n",
              "  </thead>\n",
              "  <tbody>\n",
              "    <tr>\n",
              "      <th>0</th>\n",
              "      <td>2</td>\n",
              "      <td>2</td>\n",
              "      <td>0.0</td>\n",
              "      <td>0.0</td>\n",
              "      <td>0.0</td>\n",
              "      <td>0.0</td>\n",
              "      <td>0.0</td>\n",
              "      <td>0.000000</td>\n",
              "      <td>0.0</td>\n",
              "      <td>0.000000</td>\n",
              "      <td>...</td>\n",
              "      <td>0.0</td>\n",
              "      <td>0.0</td>\n",
              "      <td>0.0</td>\n",
              "      <td>0.0</td>\n",
              "      <td>0.0</td>\n",
              "      <td>0.0</td>\n",
              "      <td>0.0</td>\n",
              "      <td>0.0</td>\n",
              "      <td>0.0</td>\n",
              "      <td>0.0</td>\n",
              "    </tr>\n",
              "    <tr>\n",
              "      <th>1</th>\n",
              "      <td>0</td>\n",
              "      <td>0</td>\n",
              "      <td>0.0</td>\n",
              "      <td>0.0</td>\n",
              "      <td>0.0</td>\n",
              "      <td>0.0</td>\n",
              "      <td>0.0</td>\n",
              "      <td>0.000000</td>\n",
              "      <td>0.0</td>\n",
              "      <td>0.000000</td>\n",
              "      <td>...</td>\n",
              "      <td>0.0</td>\n",
              "      <td>0.0</td>\n",
              "      <td>0.0</td>\n",
              "      <td>0.0</td>\n",
              "      <td>0.0</td>\n",
              "      <td>0.0</td>\n",
              "      <td>0.0</td>\n",
              "      <td>0.0</td>\n",
              "      <td>0.0</td>\n",
              "      <td>0.0</td>\n",
              "    </tr>\n",
              "    <tr>\n",
              "      <th>2</th>\n",
              "      <td>0</td>\n",
              "      <td>0</td>\n",
              "      <td>0.0</td>\n",
              "      <td>0.0</td>\n",
              "      <td>0.0</td>\n",
              "      <td>0.0</td>\n",
              "      <td>0.0</td>\n",
              "      <td>0.000000</td>\n",
              "      <td>0.0</td>\n",
              "      <td>0.000000</td>\n",
              "      <td>...</td>\n",
              "      <td>0.0</td>\n",
              "      <td>0.0</td>\n",
              "      <td>0.0</td>\n",
              "      <td>0.0</td>\n",
              "      <td>0.0</td>\n",
              "      <td>0.0</td>\n",
              "      <td>0.0</td>\n",
              "      <td>0.0</td>\n",
              "      <td>0.0</td>\n",
              "      <td>0.0</td>\n",
              "    </tr>\n",
              "    <tr>\n",
              "      <th>3</th>\n",
              "      <td>0</td>\n",
              "      <td>0</td>\n",
              "      <td>0.0</td>\n",
              "      <td>0.0</td>\n",
              "      <td>0.0</td>\n",
              "      <td>0.0</td>\n",
              "      <td>0.0</td>\n",
              "      <td>0.000000</td>\n",
              "      <td>0.0</td>\n",
              "      <td>0.000000</td>\n",
              "      <td>...</td>\n",
              "      <td>0.0</td>\n",
              "      <td>0.0</td>\n",
              "      <td>0.0</td>\n",
              "      <td>0.0</td>\n",
              "      <td>0.0</td>\n",
              "      <td>0.0</td>\n",
              "      <td>0.0</td>\n",
              "      <td>0.0</td>\n",
              "      <td>0.0</td>\n",
              "      <td>0.0</td>\n",
              "    </tr>\n",
              "    <tr>\n",
              "      <th>4</th>\n",
              "      <td>0</td>\n",
              "      <td>0</td>\n",
              "      <td>0.0</td>\n",
              "      <td>0.0</td>\n",
              "      <td>0.0</td>\n",
              "      <td>0.0</td>\n",
              "      <td>0.0</td>\n",
              "      <td>0.000000</td>\n",
              "      <td>0.0</td>\n",
              "      <td>0.000000</td>\n",
              "      <td>...</td>\n",
              "      <td>0.0</td>\n",
              "      <td>0.0</td>\n",
              "      <td>0.0</td>\n",
              "      <td>0.0</td>\n",
              "      <td>0.0</td>\n",
              "      <td>0.0</td>\n",
              "      <td>0.0</td>\n",
              "      <td>0.0</td>\n",
              "      <td>0.0</td>\n",
              "      <td>0.0</td>\n",
              "    </tr>\n",
              "    <tr>\n",
              "      <th>...</th>\n",
              "      <td>...</td>\n",
              "      <td>...</td>\n",
              "      <td>...</td>\n",
              "      <td>...</td>\n",
              "      <td>...</td>\n",
              "      <td>...</td>\n",
              "      <td>...</td>\n",
              "      <td>...</td>\n",
              "      <td>...</td>\n",
              "      <td>...</td>\n",
              "      <td>...</td>\n",
              "      <td>...</td>\n",
              "      <td>...</td>\n",
              "      <td>...</td>\n",
              "      <td>...</td>\n",
              "      <td>...</td>\n",
              "      <td>...</td>\n",
              "      <td>...</td>\n",
              "      <td>...</td>\n",
              "      <td>...</td>\n",
              "      <td>...</td>\n",
              "    </tr>\n",
              "    <tr>\n",
              "      <th>23794</th>\n",
              "      <td>0</td>\n",
              "      <td>0</td>\n",
              "      <td>0.0</td>\n",
              "      <td>0.0</td>\n",
              "      <td>0.0</td>\n",
              "      <td>0.0</td>\n",
              "      <td>0.0</td>\n",
              "      <td>0.000000</td>\n",
              "      <td>0.0</td>\n",
              "      <td>0.000000</td>\n",
              "      <td>...</td>\n",
              "      <td>0.0</td>\n",
              "      <td>0.0</td>\n",
              "      <td>0.0</td>\n",
              "      <td>0.0</td>\n",
              "      <td>0.0</td>\n",
              "      <td>0.0</td>\n",
              "      <td>0.0</td>\n",
              "      <td>0.0</td>\n",
              "      <td>0.0</td>\n",
              "      <td>0.0</td>\n",
              "    </tr>\n",
              "    <tr>\n",
              "      <th>23795</th>\n",
              "      <td>0</td>\n",
              "      <td>0</td>\n",
              "      <td>0.0</td>\n",
              "      <td>0.0</td>\n",
              "      <td>0.0</td>\n",
              "      <td>0.0</td>\n",
              "      <td>0.0</td>\n",
              "      <td>0.204161</td>\n",
              "      <td>0.0</td>\n",
              "      <td>0.000000</td>\n",
              "      <td>...</td>\n",
              "      <td>0.0</td>\n",
              "      <td>0.0</td>\n",
              "      <td>0.0</td>\n",
              "      <td>0.0</td>\n",
              "      <td>0.0</td>\n",
              "      <td>0.0</td>\n",
              "      <td>0.0</td>\n",
              "      <td>0.0</td>\n",
              "      <td>0.0</td>\n",
              "      <td>0.0</td>\n",
              "    </tr>\n",
              "    <tr>\n",
              "      <th>23796</th>\n",
              "      <td>1</td>\n",
              "      <td>1</td>\n",
              "      <td>0.0</td>\n",
              "      <td>0.0</td>\n",
              "      <td>0.0</td>\n",
              "      <td>0.0</td>\n",
              "      <td>0.0</td>\n",
              "      <td>0.000000</td>\n",
              "      <td>0.0</td>\n",
              "      <td>0.289831</td>\n",
              "      <td>...</td>\n",
              "      <td>0.0</td>\n",
              "      <td>0.0</td>\n",
              "      <td>0.0</td>\n",
              "      <td>0.0</td>\n",
              "      <td>0.0</td>\n",
              "      <td>0.0</td>\n",
              "      <td>0.0</td>\n",
              "      <td>0.0</td>\n",
              "      <td>0.0</td>\n",
              "      <td>0.0</td>\n",
              "    </tr>\n",
              "    <tr>\n",
              "      <th>23797</th>\n",
              "      <td>1</td>\n",
              "      <td>1</td>\n",
              "      <td>0.0</td>\n",
              "      <td>0.0</td>\n",
              "      <td>0.0</td>\n",
              "      <td>0.0</td>\n",
              "      <td>0.0</td>\n",
              "      <td>0.000000</td>\n",
              "      <td>0.0</td>\n",
              "      <td>0.000000</td>\n",
              "      <td>...</td>\n",
              "      <td>0.0</td>\n",
              "      <td>0.0</td>\n",
              "      <td>0.0</td>\n",
              "      <td>0.0</td>\n",
              "      <td>0.0</td>\n",
              "      <td>0.0</td>\n",
              "      <td>0.0</td>\n",
              "      <td>0.0</td>\n",
              "      <td>0.0</td>\n",
              "      <td>0.0</td>\n",
              "    </tr>\n",
              "    <tr>\n",
              "      <th>23798</th>\n",
              "      <td>0</td>\n",
              "      <td>0</td>\n",
              "      <td>0.0</td>\n",
              "      <td>0.0</td>\n",
              "      <td>0.0</td>\n",
              "      <td>0.0</td>\n",
              "      <td>0.0</td>\n",
              "      <td>0.000000</td>\n",
              "      <td>0.0</td>\n",
              "      <td>0.000000</td>\n",
              "      <td>...</td>\n",
              "      <td>0.0</td>\n",
              "      <td>0.0</td>\n",
              "      <td>0.0</td>\n",
              "      <td>0.0</td>\n",
              "      <td>0.0</td>\n",
              "      <td>0.0</td>\n",
              "      <td>0.0</td>\n",
              "      <td>0.0</td>\n",
              "      <td>0.0</td>\n",
              "      <td>0.0</td>\n",
              "    </tr>\n",
              "  </tbody>\n",
              "</table>\n",
              "<p>23799 rows × 1892 columns</p>\n",
              "</div>\n",
              "      <button class=\"colab-df-convert\" onclick=\"convertToInteractive('df-14097643-8d9c-46ac-8ab3-8f4fccd2970f')\"\n",
              "              title=\"Convert this dataframe to an interactive table.\"\n",
              "              style=\"display:none;\">\n",
              "        \n",
              "  <svg xmlns=\"http://www.w3.org/2000/svg\" height=\"24px\"viewBox=\"0 0 24 24\"\n",
              "       width=\"24px\">\n",
              "    <path d=\"M0 0h24v24H0V0z\" fill=\"none\"/>\n",
              "    <path d=\"M18.56 5.44l.94 2.06.94-2.06 2.06-.94-2.06-.94-.94-2.06-.94 2.06-2.06.94zm-11 1L8.5 8.5l.94-2.06 2.06-.94-2.06-.94L8.5 2.5l-.94 2.06-2.06.94zm10 10l.94 2.06.94-2.06 2.06-.94-2.06-.94-.94-2.06-.94 2.06-2.06.94z\"/><path d=\"M17.41 7.96l-1.37-1.37c-.4-.4-.92-.59-1.43-.59-.52 0-1.04.2-1.43.59L10.3 9.45l-7.72 7.72c-.78.78-.78 2.05 0 2.83L4 21.41c.39.39.9.59 1.41.59.51 0 1.02-.2 1.41-.59l7.78-7.78 2.81-2.81c.8-.78.8-2.07 0-2.86zM5.41 20L4 18.59l7.72-7.72 1.47 1.35L5.41 20z\"/>\n",
              "  </svg>\n",
              "      </button>\n",
              "      \n",
              "  <style>\n",
              "    .colab-df-container {\n",
              "      display:flex;\n",
              "      flex-wrap:wrap;\n",
              "      gap: 12px;\n",
              "    }\n",
              "\n",
              "    .colab-df-convert {\n",
              "      background-color: #E8F0FE;\n",
              "      border: none;\n",
              "      border-radius: 50%;\n",
              "      cursor: pointer;\n",
              "      display: none;\n",
              "      fill: #1967D2;\n",
              "      height: 32px;\n",
              "      padding: 0 0 0 0;\n",
              "      width: 32px;\n",
              "    }\n",
              "\n",
              "    .colab-df-convert:hover {\n",
              "      background-color: #E2EBFA;\n",
              "      box-shadow: 0px 1px 2px rgba(60, 64, 67, 0.3), 0px 1px 3px 1px rgba(60, 64, 67, 0.15);\n",
              "      fill: #174EA6;\n",
              "    }\n",
              "\n",
              "    [theme=dark] .colab-df-convert {\n",
              "      background-color: #3B4455;\n",
              "      fill: #D2E3FC;\n",
              "    }\n",
              "\n",
              "    [theme=dark] .colab-df-convert:hover {\n",
              "      background-color: #434B5C;\n",
              "      box-shadow: 0px 1px 3px 1px rgba(0, 0, 0, 0.15);\n",
              "      filter: drop-shadow(0px 1px 2px rgba(0, 0, 0, 0.3));\n",
              "      fill: #FFFFFF;\n",
              "    }\n",
              "  </style>\n",
              "\n",
              "      <script>\n",
              "        const buttonEl =\n",
              "          document.querySelector('#df-14097643-8d9c-46ac-8ab3-8f4fccd2970f button.colab-df-convert');\n",
              "        buttonEl.style.display =\n",
              "          google.colab.kernel.accessAllowed ? 'block' : 'none';\n",
              "\n",
              "        async function convertToInteractive(key) {\n",
              "          const element = document.querySelector('#df-14097643-8d9c-46ac-8ab3-8f4fccd2970f');\n",
              "          const dataTable =\n",
              "            await google.colab.kernel.invokeFunction('convertToInteractive',\n",
              "                                                     [key], {});\n",
              "          if (!dataTable) return;\n",
              "\n",
              "          const docLinkHtml = 'Like what you see? Visit the ' +\n",
              "            '<a target=\"_blank\" href=https://colab.research.google.com/notebooks/data_table.ipynb>data table notebook</a>'\n",
              "            + ' to learn more about interactive tables.';\n",
              "          element.innerHTML = '';\n",
              "          dataTable['output_type'] = 'display_data';\n",
              "          await google.colab.output.renderOutput(dataTable, element);\n",
              "          const docLink = document.createElement('div');\n",
              "          docLink.innerHTML = docLinkHtml;\n",
              "          element.appendChild(docLink);\n",
              "        }\n",
              "      </script>\n",
              "    </div>\n",
              "  </div>\n",
              "  "
            ],
            "text/plain": [
              "       help_neg  help_pos  r_00  r_10  r_100  r_12  r_15      r_20  r_30  \\\n",
              "0             2         2   0.0   0.0    0.0   0.0   0.0  0.000000   0.0   \n",
              "1             0         0   0.0   0.0    0.0   0.0   0.0  0.000000   0.0   \n",
              "2             0         0   0.0   0.0    0.0   0.0   0.0  0.000000   0.0   \n",
              "3             0         0   0.0   0.0    0.0   0.0   0.0  0.000000   0.0   \n",
              "4             0         0   0.0   0.0    0.0   0.0   0.0  0.000000   0.0   \n",
              "...         ...       ...   ...   ...    ...   ...   ...       ...   ...   \n",
              "23794         0         0   0.0   0.0    0.0   0.0   0.0  0.000000   0.0   \n",
              "23795         0         0   0.0   0.0    0.0   0.0   0.0  0.204161   0.0   \n",
              "23796         1         1   0.0   0.0    0.0   0.0   0.0  0.000000   0.0   \n",
              "23797         1         1   0.0   0.0    0.0   0.0   0.0  0.000000   0.0   \n",
              "23798         0         0   0.0   0.0    0.0   0.0   0.0  0.000000   0.0   \n",
              "\n",
              "           r_34  ...  s_wrong  s_yay  s_year  s_years  s_yellow  s_yes  \\\n",
              "0      0.000000  ...      0.0    0.0     0.0      0.0       0.0    0.0   \n",
              "1      0.000000  ...      0.0    0.0     0.0      0.0       0.0    0.0   \n",
              "2      0.000000  ...      0.0    0.0     0.0      0.0       0.0    0.0   \n",
              "3      0.000000  ...      0.0    0.0     0.0      0.0       0.0    0.0   \n",
              "4      0.000000  ...      0.0    0.0     0.0      0.0       0.0    0.0   \n",
              "...         ...  ...      ...    ...     ...      ...       ...    ...   \n",
              "23794  0.000000  ...      0.0    0.0     0.0      0.0       0.0    0.0   \n",
              "23795  0.000000  ...      0.0    0.0     0.0      0.0       0.0    0.0   \n",
              "23796  0.289831  ...      0.0    0.0     0.0      0.0       0.0    0.0   \n",
              "23797  0.000000  ...      0.0    0.0     0.0      0.0       0.0    0.0   \n",
              "23798  0.000000  ...      0.0    0.0     0.0      0.0       0.0    0.0   \n",
              "\n",
              "       s_zagg  s_zebra  s_zero  s_zte  \n",
              "0         0.0      0.0     0.0    0.0  \n",
              "1         0.0      0.0     0.0    0.0  \n",
              "2         0.0      0.0     0.0    0.0  \n",
              "3         0.0      0.0     0.0    0.0  \n",
              "4         0.0      0.0     0.0    0.0  \n",
              "...       ...      ...     ...    ...  \n",
              "23794     0.0      0.0     0.0    0.0  \n",
              "23795     0.0      0.0     0.0    0.0  \n",
              "23796     0.0      0.0     0.0    0.0  \n",
              "23797     0.0      0.0     0.0    0.0  \n",
              "23798     0.0      0.0     0.0    0.0  \n",
              "\n",
              "[23799 rows x 1892 columns]"
            ]
          },
          "execution_count": 12,
          "metadata": {},
          "output_type": "execute_result"
        }
      ],
      "source": [
        "X_test"
      ]
    },
    {
      "cell_type": "code",
      "execution_count": 13,
      "metadata": {
        "colab": {
          "base_uri": "https://localhost:8080/",
          "height": 424
        },
        "id": "2ynnmmAsS-Br",
        "outputId": "98ebbf36-ffa2-4de9-c8be-279b0d03c7a8"
      },
      "outputs": [
        {
          "data": {
            "text/html": [
              "\n",
              "  <div id=\"df-ade493a4-aa17-4d69-aedb-3ebd45111662\">\n",
              "    <div class=\"colab-df-container\">\n",
              "      <div>\n",
              "<style scoped>\n",
              "    .dataframe tbody tr th:only-of-type {\n",
              "        vertical-align: middle;\n",
              "    }\n",
              "\n",
              "    .dataframe tbody tr th {\n",
              "        vertical-align: top;\n",
              "    }\n",
              "\n",
              "    .dataframe thead th {\n",
              "        text-align: right;\n",
              "    }\n",
              "</style>\n",
              "<table border=\"1\" class=\"dataframe\">\n",
              "  <thead>\n",
              "    <tr style=\"text-align: right;\">\n",
              "      <th></th>\n",
              "      <th>class</th>\n",
              "    </tr>\n",
              "  </thead>\n",
              "  <tbody>\n",
              "    <tr>\n",
              "      <th>0</th>\n",
              "      <td>1</td>\n",
              "    </tr>\n",
              "    <tr>\n",
              "      <th>1</th>\n",
              "      <td>1</td>\n",
              "    </tr>\n",
              "    <tr>\n",
              "      <th>2</th>\n",
              "      <td>1</td>\n",
              "    </tr>\n",
              "    <tr>\n",
              "      <th>3</th>\n",
              "      <td>0</td>\n",
              "    </tr>\n",
              "    <tr>\n",
              "      <th>4</th>\n",
              "      <td>1</td>\n",
              "    </tr>\n",
              "    <tr>\n",
              "      <th>...</th>\n",
              "      <td>...</td>\n",
              "    </tr>\n",
              "    <tr>\n",
              "      <th>55526</th>\n",
              "      <td>1</td>\n",
              "    </tr>\n",
              "    <tr>\n",
              "      <th>55527</th>\n",
              "      <td>1</td>\n",
              "    </tr>\n",
              "    <tr>\n",
              "      <th>55528</th>\n",
              "      <td>0</td>\n",
              "    </tr>\n",
              "    <tr>\n",
              "      <th>55529</th>\n",
              "      <td>1</td>\n",
              "    </tr>\n",
              "    <tr>\n",
              "      <th>55530</th>\n",
              "      <td>1</td>\n",
              "    </tr>\n",
              "  </tbody>\n",
              "</table>\n",
              "<p>55531 rows × 1 columns</p>\n",
              "</div>\n",
              "      <button class=\"colab-df-convert\" onclick=\"convertToInteractive('df-ade493a4-aa17-4d69-aedb-3ebd45111662')\"\n",
              "              title=\"Convert this dataframe to an interactive table.\"\n",
              "              style=\"display:none;\">\n",
              "        \n",
              "  <svg xmlns=\"http://www.w3.org/2000/svg\" height=\"24px\"viewBox=\"0 0 24 24\"\n",
              "       width=\"24px\">\n",
              "    <path d=\"M0 0h24v24H0V0z\" fill=\"none\"/>\n",
              "    <path d=\"M18.56 5.44l.94 2.06.94-2.06 2.06-.94-2.06-.94-.94-2.06-.94 2.06-2.06.94zm-11 1L8.5 8.5l.94-2.06 2.06-.94-2.06-.94L8.5 2.5l-.94 2.06-2.06.94zm10 10l.94 2.06.94-2.06 2.06-.94-2.06-.94-.94-2.06-.94 2.06-2.06.94z\"/><path d=\"M17.41 7.96l-1.37-1.37c-.4-.4-.92-.59-1.43-.59-.52 0-1.04.2-1.43.59L10.3 9.45l-7.72 7.72c-.78.78-.78 2.05 0 2.83L4 21.41c.39.39.9.59 1.41.59.51 0 1.02-.2 1.41-.59l7.78-7.78 2.81-2.81c.8-.78.8-2.07 0-2.86zM5.41 20L4 18.59l7.72-7.72 1.47 1.35L5.41 20z\"/>\n",
              "  </svg>\n",
              "      </button>\n",
              "      \n",
              "  <style>\n",
              "    .colab-df-container {\n",
              "      display:flex;\n",
              "      flex-wrap:wrap;\n",
              "      gap: 12px;\n",
              "    }\n",
              "\n",
              "    .colab-df-convert {\n",
              "      background-color: #E8F0FE;\n",
              "      border: none;\n",
              "      border-radius: 50%;\n",
              "      cursor: pointer;\n",
              "      display: none;\n",
              "      fill: #1967D2;\n",
              "      height: 32px;\n",
              "      padding: 0 0 0 0;\n",
              "      width: 32px;\n",
              "    }\n",
              "\n",
              "    .colab-df-convert:hover {\n",
              "      background-color: #E2EBFA;\n",
              "      box-shadow: 0px 1px 2px rgba(60, 64, 67, 0.3), 0px 1px 3px 1px rgba(60, 64, 67, 0.15);\n",
              "      fill: #174EA6;\n",
              "    }\n",
              "\n",
              "    [theme=dark] .colab-df-convert {\n",
              "      background-color: #3B4455;\n",
              "      fill: #D2E3FC;\n",
              "    }\n",
              "\n",
              "    [theme=dark] .colab-df-convert:hover {\n",
              "      background-color: #434B5C;\n",
              "      box-shadow: 0px 1px 3px 1px rgba(0, 0, 0, 0.15);\n",
              "      filter: drop-shadow(0px 1px 2px rgba(0, 0, 0, 0.3));\n",
              "      fill: #FFFFFF;\n",
              "    }\n",
              "  </style>\n",
              "\n",
              "      <script>\n",
              "        const buttonEl =\n",
              "          document.querySelector('#df-ade493a4-aa17-4d69-aedb-3ebd45111662 button.colab-df-convert');\n",
              "        buttonEl.style.display =\n",
              "          google.colab.kernel.accessAllowed ? 'block' : 'none';\n",
              "\n",
              "        async function convertToInteractive(key) {\n",
              "          const element = document.querySelector('#df-ade493a4-aa17-4d69-aedb-3ebd45111662');\n",
              "          const dataTable =\n",
              "            await google.colab.kernel.invokeFunction('convertToInteractive',\n",
              "                                                     [key], {});\n",
              "          if (!dataTable) return;\n",
              "\n",
              "          const docLinkHtml = 'Like what you see? Visit the ' +\n",
              "            '<a target=\"_blank\" href=https://colab.research.google.com/notebooks/data_table.ipynb>data table notebook</a>'\n",
              "            + ' to learn more about interactive tables.';\n",
              "          element.innerHTML = '';\n",
              "          dataTable['output_type'] = 'display_data';\n",
              "          await google.colab.output.renderOutput(dataTable, element);\n",
              "          const docLink = document.createElement('div');\n",
              "          docLink.innerHTML = docLinkHtml;\n",
              "          element.appendChild(docLink);\n",
              "        }\n",
              "      </script>\n",
              "    </div>\n",
              "  </div>\n",
              "  "
            ],
            "text/plain": [
              "       class\n",
              "0          1\n",
              "1          1\n",
              "2          1\n",
              "3          0\n",
              "4          1\n",
              "...      ...\n",
              "55526      1\n",
              "55527      1\n",
              "55528      0\n",
              "55529      1\n",
              "55530      1\n",
              "\n",
              "[55531 rows x 1 columns]"
            ]
          },
          "execution_count": 13,
          "metadata": {},
          "output_type": "execute_result"
        }
      ],
      "source": [
        "y_remainder"
      ]
    },
    {
      "cell_type": "code",
      "execution_count": 14,
      "metadata": {
        "colab": {
          "base_uri": "https://localhost:8080/",
          "height": 424
        },
        "id": "dW8lz9nTS-Br",
        "outputId": "ec9b876a-bd00-45df-fe5b-9869d212eb63"
      },
      "outputs": [
        {
          "data": {
            "text/html": [
              "\n",
              "  <div id=\"df-063f0ec0-5b73-4c46-9900-25b9c66e465d\">\n",
              "    <div class=\"colab-df-container\">\n",
              "      <div>\n",
              "<style scoped>\n",
              "    .dataframe tbody tr th:only-of-type {\n",
              "        vertical-align: middle;\n",
              "    }\n",
              "\n",
              "    .dataframe tbody tr th {\n",
              "        vertical-align: top;\n",
              "    }\n",
              "\n",
              "    .dataframe thead th {\n",
              "        text-align: right;\n",
              "    }\n",
              "</style>\n",
              "<table border=\"1\" class=\"dataframe\">\n",
              "  <thead>\n",
              "    <tr style=\"text-align: right;\">\n",
              "      <th></th>\n",
              "      <th>class</th>\n",
              "    </tr>\n",
              "  </thead>\n",
              "  <tbody>\n",
              "    <tr>\n",
              "      <th>0</th>\n",
              "      <td>0</td>\n",
              "    </tr>\n",
              "    <tr>\n",
              "      <th>1</th>\n",
              "      <td>1</td>\n",
              "    </tr>\n",
              "    <tr>\n",
              "      <th>2</th>\n",
              "      <td>0</td>\n",
              "    </tr>\n",
              "    <tr>\n",
              "      <th>3</th>\n",
              "      <td>0</td>\n",
              "    </tr>\n",
              "    <tr>\n",
              "      <th>4</th>\n",
              "      <td>1</td>\n",
              "    </tr>\n",
              "    <tr>\n",
              "      <th>...</th>\n",
              "      <td>...</td>\n",
              "    </tr>\n",
              "    <tr>\n",
              "      <th>23794</th>\n",
              "      <td>1</td>\n",
              "    </tr>\n",
              "    <tr>\n",
              "      <th>23795</th>\n",
              "      <td>1</td>\n",
              "    </tr>\n",
              "    <tr>\n",
              "      <th>23796</th>\n",
              "      <td>0</td>\n",
              "    </tr>\n",
              "    <tr>\n",
              "      <th>23797</th>\n",
              "      <td>1</td>\n",
              "    </tr>\n",
              "    <tr>\n",
              "      <th>23798</th>\n",
              "      <td>1</td>\n",
              "    </tr>\n",
              "  </tbody>\n",
              "</table>\n",
              "<p>23799 rows × 1 columns</p>\n",
              "</div>\n",
              "      <button class=\"colab-df-convert\" onclick=\"convertToInteractive('df-063f0ec0-5b73-4c46-9900-25b9c66e465d')\"\n",
              "              title=\"Convert this dataframe to an interactive table.\"\n",
              "              style=\"display:none;\">\n",
              "        \n",
              "  <svg xmlns=\"http://www.w3.org/2000/svg\" height=\"24px\"viewBox=\"0 0 24 24\"\n",
              "       width=\"24px\">\n",
              "    <path d=\"M0 0h24v24H0V0z\" fill=\"none\"/>\n",
              "    <path d=\"M18.56 5.44l.94 2.06.94-2.06 2.06-.94-2.06-.94-.94-2.06-.94 2.06-2.06.94zm-11 1L8.5 8.5l.94-2.06 2.06-.94-2.06-.94L8.5 2.5l-.94 2.06-2.06.94zm10 10l.94 2.06.94-2.06 2.06-.94-2.06-.94-.94-2.06-.94 2.06-2.06.94z\"/><path d=\"M17.41 7.96l-1.37-1.37c-.4-.4-.92-.59-1.43-.59-.52 0-1.04.2-1.43.59L10.3 9.45l-7.72 7.72c-.78.78-.78 2.05 0 2.83L4 21.41c.39.39.9.59 1.41.59.51 0 1.02-.2 1.41-.59l7.78-7.78 2.81-2.81c.8-.78.8-2.07 0-2.86zM5.41 20L4 18.59l7.72-7.72 1.47 1.35L5.41 20z\"/>\n",
              "  </svg>\n",
              "      </button>\n",
              "      \n",
              "  <style>\n",
              "    .colab-df-container {\n",
              "      display:flex;\n",
              "      flex-wrap:wrap;\n",
              "      gap: 12px;\n",
              "    }\n",
              "\n",
              "    .colab-df-convert {\n",
              "      background-color: #E8F0FE;\n",
              "      border: none;\n",
              "      border-radius: 50%;\n",
              "      cursor: pointer;\n",
              "      display: none;\n",
              "      fill: #1967D2;\n",
              "      height: 32px;\n",
              "      padding: 0 0 0 0;\n",
              "      width: 32px;\n",
              "    }\n",
              "\n",
              "    .colab-df-convert:hover {\n",
              "      background-color: #E2EBFA;\n",
              "      box-shadow: 0px 1px 2px rgba(60, 64, 67, 0.3), 0px 1px 3px 1px rgba(60, 64, 67, 0.15);\n",
              "      fill: #174EA6;\n",
              "    }\n",
              "\n",
              "    [theme=dark] .colab-df-convert {\n",
              "      background-color: #3B4455;\n",
              "      fill: #D2E3FC;\n",
              "    }\n",
              "\n",
              "    [theme=dark] .colab-df-convert:hover {\n",
              "      background-color: #434B5C;\n",
              "      box-shadow: 0px 1px 3px 1px rgba(0, 0, 0, 0.15);\n",
              "      filter: drop-shadow(0px 1px 2px rgba(0, 0, 0, 0.3));\n",
              "      fill: #FFFFFF;\n",
              "    }\n",
              "  </style>\n",
              "\n",
              "      <script>\n",
              "        const buttonEl =\n",
              "          document.querySelector('#df-063f0ec0-5b73-4c46-9900-25b9c66e465d button.colab-df-convert');\n",
              "        buttonEl.style.display =\n",
              "          google.colab.kernel.accessAllowed ? 'block' : 'none';\n",
              "\n",
              "        async function convertToInteractive(key) {\n",
              "          const element = document.querySelector('#df-063f0ec0-5b73-4c46-9900-25b9c66e465d');\n",
              "          const dataTable =\n",
              "            await google.colab.kernel.invokeFunction('convertToInteractive',\n",
              "                                                     [key], {});\n",
              "          if (!dataTable) return;\n",
              "\n",
              "          const docLinkHtml = 'Like what you see? Visit the ' +\n",
              "            '<a target=\"_blank\" href=https://colab.research.google.com/notebooks/data_table.ipynb>data table notebook</a>'\n",
              "            + ' to learn more about interactive tables.';\n",
              "          element.innerHTML = '';\n",
              "          dataTable['output_type'] = 'display_data';\n",
              "          await google.colab.output.renderOutput(dataTable, element);\n",
              "          const docLink = document.createElement('div');\n",
              "          docLink.innerHTML = docLinkHtml;\n",
              "          element.appendChild(docLink);\n",
              "        }\n",
              "      </script>\n",
              "    </div>\n",
              "  </div>\n",
              "  "
            ],
            "text/plain": [
              "       class\n",
              "0          0\n",
              "1          1\n",
              "2          0\n",
              "3          0\n",
              "4          1\n",
              "...      ...\n",
              "23794      1\n",
              "23795      1\n",
              "23796      0\n",
              "23797      1\n",
              "23798      1\n",
              "\n",
              "[23799 rows x 1 columns]"
            ]
          },
          "execution_count": 14,
          "metadata": {},
          "output_type": "execute_result"
        }
      ],
      "source": [
        "y_test"
      ]
    },
    {
      "cell_type": "markdown",
      "metadata": {
        "id": "LZ4JyvNRS-Br"
      },
      "source": [
        "Great, there is no missing data in either dataset, and they all seem to have loaded properly.\n",
        "\n",
        "Lets proceed with the LogisticRegression model to get some baseline scores:"
      ]
    },
    {
      "cell_type": "markdown",
      "metadata": {
        "id": "uIRAP0p7S-Br"
      },
      "source": [
        "# 4 - Modelling\n",
        "\n",
        "### Baseline LogisticRegression\n",
        "\n",
        "A LogisticRegression model will be run on the remainder and test set after they have been scaled using the MinMax Scaler, and no hyperparameters set, except a random state of 1, within the model."
      ]
    },
    {
      "cell_type": "code",
      "execution_count": 15,
      "metadata": {
        "id": "b5ff4590"
      },
      "outputs": [],
      "source": [
        "# First we need to scale the data\n",
        "# Majority of data is binary so the MinMaxScaler will be used\n",
        "scaler = MinMaxScaler()"
      ]
    },
    {
      "cell_type": "code",
      "execution_count": 16,
      "metadata": {
        "colab": {
          "base_uri": "https://localhost:8080/"
        },
        "id": "139f35b2",
        "outputId": "046f8771-9bd0-4f01-adfa-d6c16152291d"
      },
      "outputs": [
        {
          "data": {
            "text/plain": [
              "MinMaxScaler()"
            ]
          },
          "execution_count": 16,
          "metadata": {},
          "output_type": "execute_result"
        }
      ],
      "source": [
        "# Fitting the scaler to the remainder dataset\n",
        "scaler.fit(X_remainder)"
      ]
    },
    {
      "cell_type": "code",
      "execution_count": 17,
      "metadata": {
        "id": "bbe39e09"
      },
      "outputs": [],
      "source": [
        "# Scaling the X remainder and test datasets\n",
        "X_remainder_scaled = scaler.transform(X_remainder)\n",
        "X_test_scaled = scaler.transform(X_test)"
      ]
    },
    {
      "cell_type": "markdown",
      "metadata": {
        "id": "f9e74d71"
      },
      "source": [
        "The data has been scaled.\n",
        "\n",
        "Lets run the baseline model:"
      ]
    },
    {
      "cell_type": "code",
      "execution_count": 18,
      "metadata": {
        "colab": {
          "base_uri": "https://localhost:8080/"
        },
        "id": "n2EIEFTDS-Br",
        "outputId": "a20922d2-40c3-47a1-d745-9cff7591e5ad"
      },
      "outputs": [
        {
          "name": "stdout",
          "output_type": "stream",
          "text": [
            "Accuracy on remainder set: 0.9030271379949938\n",
            "Accuracy on test set: 0.8897852850960124\n"
          ]
        }
      ],
      "source": [
        "# Baseline logistic regression\n",
        "# Instantiate and fit to the remainder set\n",
        "baseline_logreg = LogisticRegression(random_state=1).fit(X_remainder_scaled, y_remainder)\n",
        "\n",
        "# Print the accuracies\n",
        "print(f'Accuracy on remainder set: {baseline_logreg.score(X_remainder_scaled, y_remainder)}')\n",
        "print(f'Accuracy on test set: {baseline_logreg.score(X_test_scaled, y_test)}')"
      ]
    },
    {
      "cell_type": "markdown",
      "metadata": {
        "id": "0mT3l1NWS-Bs"
      },
      "source": [
        "We'll keep these accuracies in mind for comparing against the optimal model found by the GridSearch later.\n",
        "\n",
        "Now the X_test set can be kept as is for scoring the final model further down the line, but we need to proceed with splitting the X_remainder into X_train and X_validation sets:"
      ]
    },
    {
      "cell_type": "markdown",
      "metadata": {
        "id": "7ao6eLamS-Bs"
      },
      "source": [
        "### Data Split - Train and Validation\n",
        "\n",
        "The X/y remainder datasets will be further split into X/y train and validation sets"
      ]
    },
    {
      "cell_type": "code",
      "execution_count": 19,
      "metadata": {
        "id": "HwK4OYvjS-Bs"
      },
      "outputs": [],
      "source": [
        "# Splitting the original remainder dataset in train and validation sets\n",
        "X_train, X_validation, y_train, y_validation = train_test_split(X_remainder, y_remainder, test_size = 0.3,\n",
        "                                                                                            random_state = 1, stratify = y_remainder)"
      ]
    },
    {
      "cell_type": "code",
      "execution_count": 20,
      "metadata": {
        "colab": {
          "base_uri": "https://localhost:8080/"
        },
        "id": "khE0pCuMS-Bs",
        "outputId": "8e9f6b96-f999-4d0b-cd5a-33cabf65d25e"
      },
      "outputs": [
        {
          "name": "stdout",
          "output_type": "stream",
          "text": [
            "X_train has 38871 rows, and 1892 columns\n",
            "X_validation has 16660 rows, and 1892 columns\n"
          ]
        }
      ],
      "source": [
        "#Lets take a look at the shape of the new train and validation datasets\n",
        "print(f'X_train has {X_train.shape[0]} rows, and {X_train.shape[1]} columns')\n",
        "print(f'X_validation has {X_validation.shape[0]} rows, and {X_validation.shape[1]} columns')"
      ]
    },
    {
      "cell_type": "markdown",
      "metadata": {
        "id": "DorVEkFES-Bs"
      },
      "source": [
        "For the train and validation splits, the stratify has been set to match y_remainder. Stratify aims to maintain the class proportions in the newly split dataset.\n",
        "\n",
        "Lets check if the class proportions have been maintained:"
      ]
    },
    {
      "cell_type": "code",
      "execution_count": 21,
      "metadata": {
        "colab": {
          "base_uri": "https://localhost:8080/"
        },
        "id": "HvAm1DaiS-Bs",
        "outputId": "e507adb3-4d07-4baf-cce7-2f4f70da90b0"
      },
      "outputs": [
        {
          "name": "stdout",
          "output_type": "stream",
          "text": [
            "Proportions in remainder set:\n",
            "class\n",
            "1        0.704003\n",
            "0        0.295997\n",
            "dtype: float64 \n",
            "\n",
            "Proportions in test set:\n",
            "class\n",
            "1        0.704021\n",
            "0        0.295979\n",
            "dtype: float64 \n",
            "\n",
            "Proportions in train set:\n",
            "class\n",
            "1        0.703995\n",
            "0        0.296005\n",
            "dtype: float64 \n",
            "\n",
            "Proportions in validation set:\n",
            "class\n",
            "1        0.704022\n",
            "0        0.295978\n",
            "dtype: float64 \n",
            "\n"
          ]
        }
      ],
      "source": [
        "print('Proportions in remainder set:')\n",
        "print(y_remainder.value_counts(normalize=True), '\\n')\n",
        "\n",
        "print('Proportions in test set:')\n",
        "print(y_test.value_counts(normalize=True), '\\n')\n",
        "\n",
        "print('Proportions in train set:')\n",
        "print(y_train.value_counts(normalize=True), '\\n')\n",
        "\n",
        "print('Proportions in validation set:')\n",
        "print(y_validation.value_counts(normalize=True), '\\n')"
      ]
    },
    {
      "cell_type": "markdown",
      "metadata": {
        "id": "S7aPZnu5S-Bs"
      },
      "source": [
        "Looks like the class proportions have been maintained among the dataset splits. Due to the limited availability of data points, the exact same class proportions could not be maintained among all the split sets, but the differences are quite minor, and will not have any major effect on the models.\n",
        "\n",
        "The train and validation datasets will be used in the pipeline for hyperparameter optimisation and cross-validation.\n",
        "\n",
        "Let's continue with setting up the pipeline and grid search for cross-validation:"
      ]
    },
    {
      "cell_type": "markdown",
      "metadata": {
        "id": "OUCDhctpS-Bs"
      },
      "source": [
        "# 5 - Advanced Modelling\n",
        "\n",
        "### ML Pipeline and GridSearch\n",
        "\n",
        "First, the esimators need to set-up, these will inlclude the following 3 parameters within it:\n",
        "- Scaler: the scaler type to be employed for scaling the train and validation datasets\n",
        "- Model: the type of model which will be employed to running the analysis\n",
        "\n",
        "For the GridSearch a dimension reducer will not be used due to the fact that reducing the dimentionality resulted in a decrease in the mnodel accuracy in Notebook 2.\n",
        "\n",
        "Lets set-up the esimators:"
      ]
    },
    {
      "cell_type": "code",
      "execution_count": 22,
      "metadata": {
        "id": "rFMjkmKbS-Bs"
      },
      "outputs": [],
      "source": [
        "# Setting up the estimators and pipeline\n",
        "estimators = [\n",
        "    ('scaler', MinMaxScaler()),\n",
        "    ('model', LogisticRegression())\n",
        "]"
      ]
    },
    {
      "cell_type": "code",
      "execution_count": 23,
      "metadata": {
        "id": "bzTftHzNS-Bs"
      },
      "outputs": [],
      "source": [
        "# Set up a directory to cache the pipeline results\n",
        "from tempfile import mkdtemp\n",
        "cachedir = mkdtemp()\n",
        "\n",
        "# Instantiate the pipeline\n",
        "my_pipe = Pipeline(estimators, memory=cachedir)"
      ]
    },
    {
      "cell_type": "markdown",
      "metadata": {
        "id": "stH8N_wpS-Bs"
      },
      "source": [
        "### Why were these specific models and hyperparameters selected for the Pipeline/GridSearch:\n",
        "\n",
        "#### Logistic Regression\n",
        "LogisticRegression is the a great and simple model that can be used for classification probelsm. It is quick to run and not very computationally heavy.\n",
        "\n",
        "Solvers:\n",
        "* LibLinear - good for high dimension datasets\n",
        "* SAGA - works well on large datasets with feature matrix that is sparse (contains many 0 values) and allows for L1 regularisation, plus it is less computationally heavy (time-efficient)\n",
        "\n",
        "Penalty:\n",
        "* L1 - allows for some dimensionality reduction through regularisation\n",
        "\n",
        "#### SVM (Support Vector Machines)\n",
        "SVMs are good for working with high dimentional data such as the vectorised data I have.\n",
        "\n",
        "Kernels: (I had to remove the kernel parameters due to computational limitations)\n",
        "* Linear Kernel - used for text categorisation and large sparce datasets\n",
        "* RBF Kernel - used when there is no prior knowledge of the data and when the number of observation is greater then the number of features and for finding non-linear splits for the classification of the data\n",
        "\n",
        "#### Random Forest\n",
        "Random Forest model(bagging method) is good at both regression and classification problems, and works well with large datasets without much runtime comprmise and heavy computation requirements.\n",
        "\n",
        "Number of Estimators - how many splits the decision tree can make\n",
        "\n",
        "Max Depth - the limit after which the decision tree will stop splitting\n",
        "\n",
        "#### XGBoost\n",
        "XGBoost model is good at working with large datasets.\n",
        "\n",
        "Number of Estimators - the number of boosting stages\n",
        "\n",
        "Max Depth - the limit after which the model will stop splitting\n",
        "\n",
        "Learning Rate - the speed at which a model learns"
      ]
    },
    {
      "cell_type": "markdown",
      "metadata": {
        "id": "FUbqXnOAS-Bs"
      },
      "source": [
        "LogisticRegression Parameters not being used:\n",
        "* Penalty = L2 - not used because it does not perform feature selection, and is not robust to outliers\n",
        "* Solver = lbfgs - not used since it does not work with the L1 penalty"
      ]
    },
    {
      "cell_type": "markdown",
      "metadata": {
        "id": "aKj_LPEiS-Bs"
      },
      "source": [
        "Now, the parameters grid needs to be set-up. This will be a compilation of all the different models, and their hyperparameter combinations that I will want to test in order to find the best model with its optimal hyperparameters.\n",
        "\n",
        "The following scalers, dimension reducers, models, and model hyperparameters will be used:\n",
        "1. Scalers:\n",
        "    - MinMax Scaler\n",
        "2. Dimension reducers: (had to be dropped due to computation limits)\n",
        "    - PCA\n",
        "    - KernelPCA\n",
        "        * Number of components = range[2, 1900, 100] # This hyperparameter applies to all the dim reducers\n",
        "3. Models and Hyperparameters:\n",
        "    - LogisticRegression\n",
        "        * C_values = [.1, 1, 10]\n",
        "        * Penalty = l1\n",
        "        * Solver = liblinear, saga\n",
        "        * Random State = 1\n",
        "    - LinearSVM\n",
        "        * C_values = [.01, .1, 1]\n",
        "        * Penalty = l1, l2\n",
        "        * Random State = 1\n",
        "    - Random Forrest\n",
        "        * Number of estimators = range(8, 13)\n",
        "        * Max Depth = range(40, 46, 2)\n",
        "        * Random State = 1\n",
        "    - XGBoost\n",
        "        * Number of estimators = range(50, 53, 2)\n",
        "        * Max Depth = range(8, 11, 2)\n",
        "        * Random State = 1\n",
        "        * Learning Rate = [0.5, 1]\n",
        "\n",
        "Lets start setting up the Parameters Grid"
      ]
    },
    {
      "cell_type": "code",
      "execution_count": 24,
      "metadata": {
        "colab": {
          "base_uri": "https://localhost:8080/"
        },
        "id": "CRVNPnYdS-Bt",
        "outputId": "38a7a4ee-9677-4e8a-d75b-0c6035e60581"
      },
      "outputs": [
        {
          "data": {
            "text/plain": [
              "(38871, 1)"
            ]
          },
          "execution_count": 24,
          "metadata": {},
          "output_type": "execute_result"
        }
      ],
      "source": [
        "y_train.shape"
      ]
    },
    {
      "cell_type": "code",
      "execution_count": 25,
      "metadata": {
        "colab": {
          "base_uri": "https://localhost:8080/"
        },
        "id": "H8qSuQILS-Bt",
        "outputId": "e94aed1a-df4d-4a3c-d60a-6c3784afa982"
      },
      "outputs": [
        {
          "data": {
            "text/plain": [
              "(38871,)"
            ]
          },
          "execution_count": 25,
          "metadata": {},
          "output_type": "execute_result"
        }
      ],
      "source": [
        "y_train.values.ravel().shape"
      ]
    },
    {
      "cell_type": "markdown",
      "metadata": {
        "id": "ckCXX5aHS-Bt"
      },
      "source": [
        "For using the y_train to fit the GridSearch model, the y_train dataset needs to be converted into an array (only rows). Currently, as seen from the y_train shape check above, there is one column present, this will not work with the GridSearch, and will cause it to throw errors. The y_train dataset nneds to be flattened for fitting to the GridSearch, this can be done using the np.ravel() function."
      ]
    },
    {
      "cell_type": "code",
      "execution_count": 26,
      "metadata": {
        "id": "z4IGzSOQS-Bt"
      },
      "outputs": [],
      "source": [
        "# Range of C values to try\n",
        "c_values = [.1, 1, 10]\n",
        "\n",
        "# Logistic Regression Parameter grid\n",
        "logreg_param_grid = [\n",
        "    \n",
        "    {'scaler': [MinMaxScaler()],\n",
        "     'model': [LogisticRegression(penalty = 'l1', random_state = 1)],\n",
        "     'model__C': c_values,\n",
        "     'model__solver': ['liblinear', 'saga']}\n",
        "     ]"
      ]
    },
    {
      "cell_type": "code",
      "execution_count": 27,
      "metadata": {
        "id": "RHN-LGbNS-Bt"
      },
      "outputs": [],
      "source": [
        "# Range of C values to try\n",
        "c_values = [.01, .1, 1]\n",
        "\n",
        "# SVM Parameter grid\n",
        "svm_param_grid = [\n",
        "\n",
        "    {'scaler': [MinMaxScaler()],\n",
        "     'model': [LinearSVC(random_state = 1)], \n",
        "     'model__C': c_values,\n",
        "     'model__penalty': ['l1', 'l2']}\n",
        "   \n",
        "]"
      ]
    },
    {
      "cell_type": "code",
      "execution_count": 28,
      "metadata": {
        "id": "bEXSyN1NlgJL"
      },
      "outputs": [],
      "source": [
        "# Random Forest Parameter grid\n",
        "rf_param_grid = [\n",
        "     \n",
        "    {'scaler': [MinMaxScaler()],\n",
        "     'model': [RandomForestClassifier(random_state = 1)], \n",
        "     'model__n_estimators': range(8, 13),\n",
        "     'model__max_depth': range(40, 46, 2)}\n",
        "\n",
        "]"
      ]
    },
    {
      "cell_type": "code",
      "execution_count": 29,
      "metadata": {
        "id": "3Uu__IB1mKJz"
      },
      "outputs": [],
      "source": [
        "# Parameter grid\n",
        "xgb_param_grid = [\n",
        "\n",
        "    {'scaler': [MinMaxScaler()],\n",
        "     'model': [XGBClassifier(random_state = 1)], \n",
        "     'model__n_estimators': range(50, 53, 2),\n",
        "     'model__max_depth': range(8, 11, 2),\n",
        "     'model__learning_rate': [0.5, 1]}\n",
        "   \n",
        "]"
      ]
    },
    {
      "cell_type": "code",
      "execution_count": 30,
      "metadata": {
        "id": "O4hJ3Fi_S-Bt"
      },
      "outputs": [],
      "source": [
        "# Instantiate the grid search for each model\n",
        "logreg_grid = GridSearchCV(my_pipe, param_grid = logreg_param_grid, cv = 5, verbose = 2)\n",
        "\n",
        "svm_grid = GridSearchCV(my_pipe, param_grid = svm_param_grid, cv = 5, verbose = 2)\n",
        "\n",
        "rf_grid = GridSearchCV(my_pipe, param_grid = rf_param_grid, cv = 5, verbose = 2)\n",
        "\n",
        "xgb_grid = GridSearchCV(my_pipe, param_grid = xgb_param_grid, cv = 5, verbose = 2)"
      ]
    },
    {
      "cell_type": "code",
      "execution_count": 31,
      "metadata": {
        "colab": {
          "base_uri": "https://localhost:8080/"
        },
        "id": "d7pvmAd0S-Bu",
        "outputId": "a0aa33ad-3620-41a2-fcad-26632cfb88de"
      },
      "outputs": [
        {
          "name": "stdout",
          "output_type": "stream",
          "text": [
            "Fitting 5 folds for each of 6 candidates, totalling 30 fits\n",
            "[CV] END model=LogisticRegression(penalty='l1', random_state=1), model__C=0.1, model__solver=liblinear, scaler=MinMaxScaler(); total time=   8.1s\n",
            "[CV] END model=LogisticRegression(penalty='l1', random_state=1), model__C=0.1, model__solver=liblinear, scaler=MinMaxScaler(); total time=   6.1s\n",
            "[CV] END model=LogisticRegression(penalty='l1', random_state=1), model__C=0.1, model__solver=liblinear, scaler=MinMaxScaler(); total time=   5.9s\n",
            "[CV] END model=LogisticRegression(penalty='l1', random_state=1), model__C=0.1, model__solver=liblinear, scaler=MinMaxScaler(); total time=   6.4s\n",
            "[CV] END model=LogisticRegression(penalty='l1', random_state=1), model__C=0.1, model__solver=liblinear, scaler=MinMaxScaler(); total time=   7.9s\n",
            "[CV] END model=LogisticRegression(penalty='l1', random_state=1), model__C=0.1, model__solver=saga, scaler=MinMaxScaler(); total time=  25.3s\n",
            "[CV] END model=LogisticRegression(penalty='l1', random_state=1), model__C=0.1, model__solver=saga, scaler=MinMaxScaler(); total time=  21.6s\n",
            "[CV] END model=LogisticRegression(penalty='l1', random_state=1), model__C=0.1, model__solver=saga, scaler=MinMaxScaler(); total time=  21.6s\n",
            "[CV] END model=LogisticRegression(penalty='l1', random_state=1), model__C=0.1, model__solver=saga, scaler=MinMaxScaler(); total time=  20.7s\n",
            "[CV] END model=LogisticRegression(penalty='l1', random_state=1), model__C=0.1, model__solver=saga, scaler=MinMaxScaler(); total time=  21.9s\n",
            "[CV] END model=LogisticRegression(penalty='l1', random_state=1), model__C=1, model__solver=liblinear, scaler=MinMaxScaler(); total time=   2.5s\n",
            "[CV] END model=LogisticRegression(penalty='l1', random_state=1), model__C=1, model__solver=liblinear, scaler=MinMaxScaler(); total time=   2.5s\n",
            "[CV] END model=LogisticRegression(penalty='l1', random_state=1), model__C=1, model__solver=liblinear, scaler=MinMaxScaler(); total time=   2.5s\n",
            "[CV] END model=LogisticRegression(penalty='l1', random_state=1), model__C=1, model__solver=liblinear, scaler=MinMaxScaler(); total time=   2.4s\n",
            "[CV] END model=LogisticRegression(penalty='l1', random_state=1), model__C=1, model__solver=liblinear, scaler=MinMaxScaler(); total time=   2.4s\n",
            "[CV] END model=LogisticRegression(penalty='l1', random_state=1), model__C=1, model__solver=saga, scaler=MinMaxScaler(); total time= 2.1min\n",
            "[CV] END model=LogisticRegression(penalty='l1', random_state=1), model__C=1, model__solver=saga, scaler=MinMaxScaler(); total time= 1.4min\n",
            "[CV] END model=LogisticRegression(penalty='l1', random_state=1), model__C=1, model__solver=saga, scaler=MinMaxScaler(); total time= 1.2min\n",
            "[CV] END model=LogisticRegression(penalty='l1', random_state=1), model__C=1, model__solver=saga, scaler=MinMaxScaler(); total time= 2.1min\n",
            "[CV] END model=LogisticRegression(penalty='l1', random_state=1), model__C=1, model__solver=saga, scaler=MinMaxScaler(); total time= 1.1min\n",
            "[CV] END model=LogisticRegression(penalty='l1', random_state=1), model__C=10, model__solver=liblinear, scaler=MinMaxScaler(); total time=   2.7s\n",
            "[CV] END model=LogisticRegression(penalty='l1', random_state=1), model__C=10, model__solver=liblinear, scaler=MinMaxScaler(); total time=   2.5s\n",
            "[CV] END model=LogisticRegression(penalty='l1', random_state=1), model__C=10, model__solver=liblinear, scaler=MinMaxScaler(); total time=   2.7s\n",
            "[CV] END model=LogisticRegression(penalty='l1', random_state=1), model__C=10, model__solver=liblinear, scaler=MinMaxScaler(); total time=   2.6s\n",
            "[CV] END model=LogisticRegression(penalty='l1', random_state=1), model__C=10, model__solver=liblinear, scaler=MinMaxScaler(); total time=   2.5s\n",
            "[CV] END model=LogisticRegression(penalty='l1', random_state=1), model__C=10, model__solver=saga, scaler=MinMaxScaler(); total time= 2.5min\n",
            "[CV] END model=LogisticRegression(penalty='l1', random_state=1), model__C=10, model__solver=saga, scaler=MinMaxScaler(); total time= 2.5min\n",
            "[CV] END model=LogisticRegression(penalty='l1', random_state=1), model__C=10, model__solver=saga, scaler=MinMaxScaler(); total time= 2.5min\n",
            "[CV] END model=LogisticRegression(penalty='l1', random_state=1), model__C=10, model__solver=saga, scaler=MinMaxScaler(); total time= 2.6min\n",
            "[CV] END model=LogisticRegression(penalty='l1', random_state=1), model__C=10, model__solver=saga, scaler=MinMaxScaler(); total time= 2.6min\n"
          ]
        }
      ],
      "source": [
        "# Fit the grid search for all models\n",
        "\n",
        "logreg_fitted_grid = logreg_grid.fit(X_train, y_train.values.ravel())"
      ]
    },
    {
      "cell_type": "code",
      "execution_count": 32,
      "metadata": {
        "colab": {
          "base_uri": "https://localhost:8080/"
        },
        "id": "fqiR1pLG3SND",
        "outputId": "93cff915-f03c-439e-e3eb-1c62427566fa"
      },
      "outputs": [
        {
          "name": "stdout",
          "output_type": "stream",
          "text": [
            "Fitting 5 folds for each of 6 candidates, totalling 30 fits\n",
            "[CV] END model=LinearSVC(random_state=1), model__C=0.01, model__penalty=l1, scaler=MinMaxScaler(); total time=   2.6s\n",
            "[CV] END model=LinearSVC(random_state=1), model__C=0.01, model__penalty=l1, scaler=MinMaxScaler(); total time=   1.7s\n",
            "[CV] END model=LinearSVC(random_state=1), model__C=0.01, model__penalty=l1, scaler=MinMaxScaler(); total time=   1.7s\n",
            "[CV] END model=LinearSVC(random_state=1), model__C=0.01, model__penalty=l1, scaler=MinMaxScaler(); total time=   1.7s\n",
            "[CV] END model=LinearSVC(random_state=1), model__C=0.01, model__penalty=l1, scaler=MinMaxScaler(); total time=   1.7s\n",
            "[CV] END model=LinearSVC(random_state=1), model__C=0.01, model__penalty=l2, scaler=MinMaxScaler(); total time=   2.1s\n",
            "[CV] END model=LinearSVC(random_state=1), model__C=0.01, model__penalty=l2, scaler=MinMaxScaler(); total time=   2.2s\n",
            "[CV] END model=LinearSVC(random_state=1), model__C=0.01, model__penalty=l2, scaler=MinMaxScaler(); total time=   2.2s\n",
            "[CV] END model=LinearSVC(random_state=1), model__C=0.01, model__penalty=l2, scaler=MinMaxScaler(); total time=   2.2s\n",
            "[CV] END model=LinearSVC(random_state=1), model__C=0.01, model__penalty=l2, scaler=MinMaxScaler(); total time=   2.2s\n",
            "[CV] END model=LinearSVC(random_state=1), model__C=0.1, model__penalty=l1, scaler=MinMaxScaler(); total time=   1.6s\n",
            "[CV] END model=LinearSVC(random_state=1), model__C=0.1, model__penalty=l1, scaler=MinMaxScaler(); total time=   1.8s\n",
            "[CV] END model=LinearSVC(random_state=1), model__C=0.1, model__penalty=l1, scaler=MinMaxScaler(); total time=   1.8s\n",
            "[CV] END model=LinearSVC(random_state=1), model__C=0.1, model__penalty=l1, scaler=MinMaxScaler(); total time=   1.6s\n",
            "[CV] END model=LinearSVC(random_state=1), model__C=0.1, model__penalty=l1, scaler=MinMaxScaler(); total time=   1.6s\n",
            "[CV] END model=LinearSVC(random_state=1), model__C=0.1, model__penalty=l2, scaler=MinMaxScaler(); total time=   2.2s\n",
            "[CV] END model=LinearSVC(random_state=1), model__C=0.1, model__penalty=l2, scaler=MinMaxScaler(); total time=   2.2s\n",
            "[CV] END model=LinearSVC(random_state=1), model__C=0.1, model__penalty=l2, scaler=MinMaxScaler(); total time=   2.2s\n",
            "[CV] END model=LinearSVC(random_state=1), model__C=0.1, model__penalty=l2, scaler=MinMaxScaler(); total time=   2.2s\n",
            "[CV] END model=LinearSVC(random_state=1), model__C=0.1, model__penalty=l2, scaler=MinMaxScaler(); total time=   2.2s\n",
            "[CV] END model=LinearSVC(random_state=1), model__C=1, model__penalty=l1, scaler=MinMaxScaler(); total time=   1.6s\n",
            "[CV] END model=LinearSVC(random_state=1), model__C=1, model__penalty=l1, scaler=MinMaxScaler(); total time=   1.6s\n",
            "[CV] END model=LinearSVC(random_state=1), model__C=1, model__penalty=l1, scaler=MinMaxScaler(); total time=   1.7s\n",
            "[CV] END model=LinearSVC(random_state=1), model__C=1, model__penalty=l1, scaler=MinMaxScaler(); total time=   1.7s\n",
            "[CV] END model=LinearSVC(random_state=1), model__C=1, model__penalty=l1, scaler=MinMaxScaler(); total time=   1.6s\n",
            "[CV] END model=LinearSVC(random_state=1), model__C=1, model__penalty=l2, scaler=MinMaxScaler(); total time=   2.5s\n",
            "[CV] END model=LinearSVC(random_state=1), model__C=1, model__penalty=l2, scaler=MinMaxScaler(); total time=   2.5s\n",
            "[CV] END model=LinearSVC(random_state=1), model__C=1, model__penalty=l2, scaler=MinMaxScaler(); total time=   2.6s\n",
            "[CV] END model=LinearSVC(random_state=1), model__C=1, model__penalty=l2, scaler=MinMaxScaler(); total time=   2.6s\n",
            "[CV] END model=LinearSVC(random_state=1), model__C=1, model__penalty=l2, scaler=MinMaxScaler(); total time=   2.5s\n"
          ]
        }
      ],
      "source": [
        "svm_fitted_grid = svm_grid.fit(X_train, y_train.values.ravel())"
      ]
    },
    {
      "cell_type": "code",
      "execution_count": 33,
      "metadata": {
        "colab": {
          "base_uri": "https://localhost:8080/"
        },
        "id": "0iRlSfHZaAeB",
        "outputId": "b52491c8-2df6-4f17-d87d-27c893744958"
      },
      "outputs": [
        {
          "name": "stdout",
          "output_type": "stream",
          "text": [
            "Fitting 5 folds for each of 15 candidates, totalling 75 fits\n",
            "[CV] END model=RandomForestClassifier(random_state=1), model__max_depth=40, model__n_estimators=8, scaler=MinMaxScaler(); total time=   4.0s\n",
            "[CV] END model=RandomForestClassifier(random_state=1), model__max_depth=40, model__n_estimators=8, scaler=MinMaxScaler(); total time=   3.8s\n",
            "[CV] END model=RandomForestClassifier(random_state=1), model__max_depth=40, model__n_estimators=8, scaler=MinMaxScaler(); total time=   3.8s\n",
            "[CV] END model=RandomForestClassifier(random_state=1), model__max_depth=40, model__n_estimators=8, scaler=MinMaxScaler(); total time=   3.8s\n",
            "[CV] END model=RandomForestClassifier(random_state=1), model__max_depth=40, model__n_estimators=8, scaler=MinMaxScaler(); total time=   3.8s\n",
            "[CV] END model=RandomForestClassifier(random_state=1), model__max_depth=40, model__n_estimators=9, scaler=MinMaxScaler(); total time=   4.1s\n",
            "[CV] END model=RandomForestClassifier(random_state=1), model__max_depth=40, model__n_estimators=9, scaler=MinMaxScaler(); total time=   4.1s\n",
            "[CV] END model=RandomForestClassifier(random_state=1), model__max_depth=40, model__n_estimators=9, scaler=MinMaxScaler(); total time=   4.1s\n",
            "[CV] END model=RandomForestClassifier(random_state=1), model__max_depth=40, model__n_estimators=9, scaler=MinMaxScaler(); total time=   4.1s\n",
            "[CV] END model=RandomForestClassifier(random_state=1), model__max_depth=40, model__n_estimators=9, scaler=MinMaxScaler(); total time=   4.1s\n",
            "[CV] END model=RandomForestClassifier(random_state=1), model__max_depth=40, model__n_estimators=10, scaler=MinMaxScaler(); total time=   4.4s\n",
            "[CV] END model=RandomForestClassifier(random_state=1), model__max_depth=40, model__n_estimators=10, scaler=MinMaxScaler(); total time=   4.4s\n",
            "[CV] END model=RandomForestClassifier(random_state=1), model__max_depth=40, model__n_estimators=10, scaler=MinMaxScaler(); total time=   4.3s\n",
            "[CV] END model=RandomForestClassifier(random_state=1), model__max_depth=40, model__n_estimators=10, scaler=MinMaxScaler(); total time=   4.4s\n",
            "[CV] END model=RandomForestClassifier(random_state=1), model__max_depth=40, model__n_estimators=10, scaler=MinMaxScaler(); total time=   4.3s\n",
            "[CV] END model=RandomForestClassifier(random_state=1), model__max_depth=40, model__n_estimators=11, scaler=MinMaxScaler(); total time=   4.6s\n",
            "[CV] END model=RandomForestClassifier(random_state=1), model__max_depth=40, model__n_estimators=11, scaler=MinMaxScaler(); total time=   4.6s\n",
            "[CV] END model=RandomForestClassifier(random_state=1), model__max_depth=40, model__n_estimators=11, scaler=MinMaxScaler(); total time=   4.6s\n",
            "[CV] END model=RandomForestClassifier(random_state=1), model__max_depth=40, model__n_estimators=11, scaler=MinMaxScaler(); total time=   4.6s\n",
            "[CV] END model=RandomForestClassifier(random_state=1), model__max_depth=40, model__n_estimators=11, scaler=MinMaxScaler(); total time=   4.6s\n",
            "[CV] END model=RandomForestClassifier(random_state=1), model__max_depth=40, model__n_estimators=12, scaler=MinMaxScaler(); total time=   5.9s\n",
            "[CV] END model=RandomForestClassifier(random_state=1), model__max_depth=40, model__n_estimators=12, scaler=MinMaxScaler(); total time=   4.9s\n",
            "[CV] END model=RandomForestClassifier(random_state=1), model__max_depth=40, model__n_estimators=12, scaler=MinMaxScaler(); total time=   4.9s\n",
            "[CV] END model=RandomForestClassifier(random_state=1), model__max_depth=40, model__n_estimators=12, scaler=MinMaxScaler(); total time=   4.9s\n",
            "[CV] END model=RandomForestClassifier(random_state=1), model__max_depth=40, model__n_estimators=12, scaler=MinMaxScaler(); total time=   4.9s\n",
            "[CV] END model=RandomForestClassifier(random_state=1), model__max_depth=42, model__n_estimators=8, scaler=MinMaxScaler(); total time=   4.0s\n",
            "[CV] END model=RandomForestClassifier(random_state=1), model__max_depth=42, model__n_estimators=8, scaler=MinMaxScaler(); total time=   4.0s\n",
            "[CV] END model=RandomForestClassifier(random_state=1), model__max_depth=42, model__n_estimators=8, scaler=MinMaxScaler(); total time=   3.9s\n",
            "[CV] END model=RandomForestClassifier(random_state=1), model__max_depth=42, model__n_estimators=8, scaler=MinMaxScaler(); total time=   3.9s\n",
            "[CV] END model=RandomForestClassifier(random_state=1), model__max_depth=42, model__n_estimators=8, scaler=MinMaxScaler(); total time=   4.0s\n",
            "[CV] END model=RandomForestClassifier(random_state=1), model__max_depth=42, model__n_estimators=9, scaler=MinMaxScaler(); total time=   4.2s\n",
            "[CV] END model=RandomForestClassifier(random_state=1), model__max_depth=42, model__n_estimators=9, scaler=MinMaxScaler(); total time=   4.2s\n",
            "[CV] END model=RandomForestClassifier(random_state=1), model__max_depth=42, model__n_estimators=9, scaler=MinMaxScaler(); total time=   4.2s\n",
            "[CV] END model=RandomForestClassifier(random_state=1), model__max_depth=42, model__n_estimators=9, scaler=MinMaxScaler(); total time=   4.2s\n",
            "[CV] END model=RandomForestClassifier(random_state=1), model__max_depth=42, model__n_estimators=9, scaler=MinMaxScaler(); total time=   4.2s\n",
            "[CV] END model=RandomForestClassifier(random_state=1), model__max_depth=42, model__n_estimators=10, scaler=MinMaxScaler(); total time=   4.4s\n",
            "[CV] END model=RandomForestClassifier(random_state=1), model__max_depth=42, model__n_estimators=10, scaler=MinMaxScaler(); total time=   4.5s\n",
            "[CV] END model=RandomForestClassifier(random_state=1), model__max_depth=42, model__n_estimators=10, scaler=MinMaxScaler(); total time=   4.5s\n",
            "[CV] END model=RandomForestClassifier(random_state=1), model__max_depth=42, model__n_estimators=10, scaler=MinMaxScaler(); total time=   4.5s\n",
            "[CV] END model=RandomForestClassifier(random_state=1), model__max_depth=42, model__n_estimators=10, scaler=MinMaxScaler(); total time=   4.6s\n",
            "[CV] END model=RandomForestClassifier(random_state=1), model__max_depth=42, model__n_estimators=11, scaler=MinMaxScaler(); total time=   7.5s\n",
            "[CV] END model=RandomForestClassifier(random_state=1), model__max_depth=42, model__n_estimators=11, scaler=MinMaxScaler(); total time=   5.2s\n",
            "[CV] END model=RandomForestClassifier(random_state=1), model__max_depth=42, model__n_estimators=11, scaler=MinMaxScaler(); total time=   5.3s\n",
            "[CV] END model=RandomForestClassifier(random_state=1), model__max_depth=42, model__n_estimators=11, scaler=MinMaxScaler(); total time=   4.7s\n",
            "[CV] END model=RandomForestClassifier(random_state=1), model__max_depth=42, model__n_estimators=11, scaler=MinMaxScaler(); total time=   4.7s\n",
            "[CV] END model=RandomForestClassifier(random_state=1), model__max_depth=42, model__n_estimators=12, scaler=MinMaxScaler(); total time=   5.0s\n",
            "[CV] END model=RandomForestClassifier(random_state=1), model__max_depth=42, model__n_estimators=12, scaler=MinMaxScaler(); total time=   5.0s\n",
            "[CV] END model=RandomForestClassifier(random_state=1), model__max_depth=42, model__n_estimators=12, scaler=MinMaxScaler(); total time=   5.1s\n",
            "[CV] END model=RandomForestClassifier(random_state=1), model__max_depth=42, model__n_estimators=12, scaler=MinMaxScaler(); total time=   5.0s\n",
            "[CV] END model=RandomForestClassifier(random_state=1), model__max_depth=42, model__n_estimators=12, scaler=MinMaxScaler(); total time=   5.1s\n",
            "[CV] END model=RandomForestClassifier(random_state=1), model__max_depth=44, model__n_estimators=8, scaler=MinMaxScaler(); total time=   4.0s\n",
            "[CV] END model=RandomForestClassifier(random_state=1), model__max_depth=44, model__n_estimators=8, scaler=MinMaxScaler(); total time=   4.0s\n",
            "[CV] END model=RandomForestClassifier(random_state=1), model__max_depth=44, model__n_estimators=8, scaler=MinMaxScaler(); total time=   4.0s\n",
            "[CV] END model=RandomForestClassifier(random_state=1), model__max_depth=44, model__n_estimators=8, scaler=MinMaxScaler(); total time=   4.0s\n",
            "[CV] END model=RandomForestClassifier(random_state=1), model__max_depth=44, model__n_estimators=8, scaler=MinMaxScaler(); total time=   4.0s\n",
            "[CV] END model=RandomForestClassifier(random_state=1), model__max_depth=44, model__n_estimators=9, scaler=MinMaxScaler(); total time=   4.3s\n",
            "[CV] END model=RandomForestClassifier(random_state=1), model__max_depth=44, model__n_estimators=9, scaler=MinMaxScaler(); total time=   4.3s\n",
            "[CV] END model=RandomForestClassifier(random_state=1), model__max_depth=44, model__n_estimators=9, scaler=MinMaxScaler(); total time=   4.3s\n",
            "[CV] END model=RandomForestClassifier(random_state=1), model__max_depth=44, model__n_estimators=9, scaler=MinMaxScaler(); total time=   4.3s\n",
            "[CV] END model=RandomForestClassifier(random_state=1), model__max_depth=44, model__n_estimators=9, scaler=MinMaxScaler(); total time=   4.3s\n",
            "[CV] END model=RandomForestClassifier(random_state=1), model__max_depth=44, model__n_estimators=10, scaler=MinMaxScaler(); total time=   4.6s\n",
            "[CV] END model=RandomForestClassifier(random_state=1), model__max_depth=44, model__n_estimators=10, scaler=MinMaxScaler(); total time=   4.6s\n",
            "[CV] END model=RandomForestClassifier(random_state=1), model__max_depth=44, model__n_estimators=10, scaler=MinMaxScaler(); total time=   5.7s\n",
            "[CV] END model=RandomForestClassifier(random_state=1), model__max_depth=44, model__n_estimators=10, scaler=MinMaxScaler(); total time=   4.6s\n",
            "[CV] END model=RandomForestClassifier(random_state=1), model__max_depth=44, model__n_estimators=10, scaler=MinMaxScaler(); total time=   4.5s\n",
            "[CV] END model=RandomForestClassifier(random_state=1), model__max_depth=44, model__n_estimators=11, scaler=MinMaxScaler(); total time=   4.9s\n",
            "[CV] END model=RandomForestClassifier(random_state=1), model__max_depth=44, model__n_estimators=11, scaler=MinMaxScaler(); total time=   4.8s\n",
            "[CV] END model=RandomForestClassifier(random_state=1), model__max_depth=44, model__n_estimators=11, scaler=MinMaxScaler(); total time=   4.9s\n",
            "[CV] END model=RandomForestClassifier(random_state=1), model__max_depth=44, model__n_estimators=11, scaler=MinMaxScaler(); total time=   4.9s\n",
            "[CV] END model=RandomForestClassifier(random_state=1), model__max_depth=44, model__n_estimators=11, scaler=MinMaxScaler(); total time=   4.8s\n",
            "[CV] END model=RandomForestClassifier(random_state=1), model__max_depth=44, model__n_estimators=12, scaler=MinMaxScaler(); total time=   5.2s\n",
            "[CV] END model=RandomForestClassifier(random_state=1), model__max_depth=44, model__n_estimators=12, scaler=MinMaxScaler(); total time=   5.1s\n",
            "[CV] END model=RandomForestClassifier(random_state=1), model__max_depth=44, model__n_estimators=12, scaler=MinMaxScaler(); total time=   5.2s\n",
            "[CV] END model=RandomForestClassifier(random_state=1), model__max_depth=44, model__n_estimators=12, scaler=MinMaxScaler(); total time=   5.2s\n",
            "[CV] END model=RandomForestClassifier(random_state=1), model__max_depth=44, model__n_estimators=12, scaler=MinMaxScaler(); total time=   5.2s\n"
          ]
        }
      ],
      "source": [
        "rf_fitted_grid = rf_grid.fit(X_train, y_train.values.ravel())"
      ]
    },
    {
      "cell_type": "code",
      "execution_count": 34,
      "metadata": {
        "colab": {
          "base_uri": "https://localhost:8080/"
        },
        "id": "4R_vy3eAZ_vk",
        "outputId": "3b3e40d0-2f87-4746-afc2-ff4965b34d1d"
      },
      "outputs": [
        {
          "name": "stdout",
          "output_type": "stream",
          "text": [
            "Fitting 5 folds for each of 8 candidates, totalling 40 fits\n",
            "[CV] END model=XGBClassifier(random_state=1), model__learning_rate=0.5, model__max_depth=8, model__n_estimators=50, scaler=MinMaxScaler(); total time= 2.5min\n",
            "[CV] END model=XGBClassifier(random_state=1), model__learning_rate=0.5, model__max_depth=8, model__n_estimators=50, scaler=MinMaxScaler(); total time= 2.5min\n",
            "[CV] END model=XGBClassifier(random_state=1), model__learning_rate=0.5, model__max_depth=8, model__n_estimators=50, scaler=MinMaxScaler(); total time= 2.5min\n",
            "[CV] END model=XGBClassifier(random_state=1), model__learning_rate=0.5, model__max_depth=8, model__n_estimators=50, scaler=MinMaxScaler(); total time= 2.4min\n",
            "[CV] END model=XGBClassifier(random_state=1), model__learning_rate=0.5, model__max_depth=8, model__n_estimators=50, scaler=MinMaxScaler(); total time= 2.4min\n",
            "[CV] END model=XGBClassifier(random_state=1), model__learning_rate=0.5, model__max_depth=8, model__n_estimators=52, scaler=MinMaxScaler(); total time= 2.5min\n",
            "[CV] END model=XGBClassifier(random_state=1), model__learning_rate=0.5, model__max_depth=8, model__n_estimators=52, scaler=MinMaxScaler(); total time= 2.4min\n",
            "[CV] END model=XGBClassifier(random_state=1), model__learning_rate=0.5, model__max_depth=8, model__n_estimators=52, scaler=MinMaxScaler(); total time= 2.5min\n",
            "[CV] END model=XGBClassifier(random_state=1), model__learning_rate=0.5, model__max_depth=8, model__n_estimators=52, scaler=MinMaxScaler(); total time= 2.5min\n",
            "[CV] END model=XGBClassifier(random_state=1), model__learning_rate=0.5, model__max_depth=8, model__n_estimators=52, scaler=MinMaxScaler(); total time= 2.4min\n",
            "[CV] END model=XGBClassifier(random_state=1), model__learning_rate=0.5, model__max_depth=10, model__n_estimators=50, scaler=MinMaxScaler(); total time= 2.9min\n",
            "[CV] END model=XGBClassifier(random_state=1), model__learning_rate=0.5, model__max_depth=10, model__n_estimators=50, scaler=MinMaxScaler(); total time= 3.0min\n",
            "[CV] END model=XGBClassifier(random_state=1), model__learning_rate=0.5, model__max_depth=10, model__n_estimators=50, scaler=MinMaxScaler(); total time= 3.0min\n",
            "[CV] END model=XGBClassifier(random_state=1), model__learning_rate=0.5, model__max_depth=10, model__n_estimators=50, scaler=MinMaxScaler(); total time= 3.0min\n",
            "[CV] END model=XGBClassifier(random_state=1), model__learning_rate=0.5, model__max_depth=10, model__n_estimators=50, scaler=MinMaxScaler(); total time= 3.0min\n",
            "[CV] END model=XGBClassifier(random_state=1), model__learning_rate=0.5, model__max_depth=10, model__n_estimators=52, scaler=MinMaxScaler(); total time= 3.1min\n",
            "[CV] END model=XGBClassifier(random_state=1), model__learning_rate=0.5, model__max_depth=10, model__n_estimators=52, scaler=MinMaxScaler(); total time= 3.0min\n",
            "[CV] END model=XGBClassifier(random_state=1), model__learning_rate=0.5, model__max_depth=10, model__n_estimators=52, scaler=MinMaxScaler(); total time= 3.1min\n",
            "[CV] END model=XGBClassifier(random_state=1), model__learning_rate=0.5, model__max_depth=10, model__n_estimators=52, scaler=MinMaxScaler(); total time= 3.0min\n",
            "[CV] END model=XGBClassifier(random_state=1), model__learning_rate=0.5, model__max_depth=10, model__n_estimators=52, scaler=MinMaxScaler(); total time= 2.9min\n",
            "[CV] END model=XGBClassifier(random_state=1), model__learning_rate=1, model__max_depth=8, model__n_estimators=50, scaler=MinMaxScaler(); total time= 2.4min\n",
            "[CV] END model=XGBClassifier(random_state=1), model__learning_rate=1, model__max_depth=8, model__n_estimators=50, scaler=MinMaxScaler(); total time= 2.5min\n",
            "[CV] END model=XGBClassifier(random_state=1), model__learning_rate=1, model__max_depth=8, model__n_estimators=50, scaler=MinMaxScaler(); total time= 2.5min\n",
            "[CV] END model=XGBClassifier(random_state=1), model__learning_rate=1, model__max_depth=8, model__n_estimators=50, scaler=MinMaxScaler(); total time= 2.4min\n",
            "[CV] END model=XGBClassifier(random_state=1), model__learning_rate=1, model__max_depth=8, model__n_estimators=50, scaler=MinMaxScaler(); total time= 2.3min\n",
            "[CV] END model=XGBClassifier(random_state=1), model__learning_rate=1, model__max_depth=8, model__n_estimators=52, scaler=MinMaxScaler(); total time= 2.5min\n",
            "[CV] END model=XGBClassifier(random_state=1), model__learning_rate=1, model__max_depth=8, model__n_estimators=52, scaler=MinMaxScaler(); total time= 2.5min\n",
            "[CV] END model=XGBClassifier(random_state=1), model__learning_rate=1, model__max_depth=8, model__n_estimators=52, scaler=MinMaxScaler(); total time= 2.4min\n",
            "[CV] END model=XGBClassifier(random_state=1), model__learning_rate=1, model__max_depth=8, model__n_estimators=52, scaler=MinMaxScaler(); total time= 2.5min\n",
            "[CV] END model=XGBClassifier(random_state=1), model__learning_rate=1, model__max_depth=8, model__n_estimators=52, scaler=MinMaxScaler(); total time= 2.5min\n",
            "[CV] END model=XGBClassifier(random_state=1), model__learning_rate=1, model__max_depth=10, model__n_estimators=50, scaler=MinMaxScaler(); total time= 3.0min\n",
            "[CV] END model=XGBClassifier(random_state=1), model__learning_rate=1, model__max_depth=10, model__n_estimators=50, scaler=MinMaxScaler(); total time= 3.1min\n",
            "[CV] END model=XGBClassifier(random_state=1), model__learning_rate=1, model__max_depth=10, model__n_estimators=50, scaler=MinMaxScaler(); total time= 3.0min\n",
            "[CV] END model=XGBClassifier(random_state=1), model__learning_rate=1, model__max_depth=10, model__n_estimators=50, scaler=MinMaxScaler(); total time= 3.0min\n",
            "[CV] END model=XGBClassifier(random_state=1), model__learning_rate=1, model__max_depth=10, model__n_estimators=50, scaler=MinMaxScaler(); total time= 2.9min\n",
            "[CV] END model=XGBClassifier(random_state=1), model__learning_rate=1, model__max_depth=10, model__n_estimators=52, scaler=MinMaxScaler(); total time= 3.1min\n",
            "[CV] END model=XGBClassifier(random_state=1), model__learning_rate=1, model__max_depth=10, model__n_estimators=52, scaler=MinMaxScaler(); total time= 3.1min\n",
            "[CV] END model=XGBClassifier(random_state=1), model__learning_rate=1, model__max_depth=10, model__n_estimators=52, scaler=MinMaxScaler(); total time= 3.1min\n",
            "[CV] END model=XGBClassifier(random_state=1), model__learning_rate=1, model__max_depth=10, model__n_estimators=52, scaler=MinMaxScaler(); total time= 3.1min\n",
            "[CV] END model=XGBClassifier(random_state=1), model__learning_rate=1, model__max_depth=10, model__n_estimators=52, scaler=MinMaxScaler(); total time= 3.0min\n"
          ]
        }
      ],
      "source": [
        "xgb_fitted_grid = xgb_grid.fit(X_train, y_train.values.ravel())"
      ]
    },
    {
      "cell_type": "markdown",
      "metadata": {
        "id": "Qu3_-YMUMO1V"
      },
      "source": [
        "### Best Models and Params\n",
        "\n",
        "Now that the GridSearch has finished fitting/running the best hyperparameters can be checked for each model:"
      ]
    },
    {
      "cell_type": "code",
      "execution_count": 35,
      "metadata": {
        "colab": {
          "base_uri": "https://localhost:8080/"
        },
        "id": "DsnuNT2bS-Bu",
        "outputId": "360ccd3f-9f11-4ac5-feaa-5d2e31cd2365"
      },
      "outputs": [
        {
          "name": "stdout",
          "output_type": "stream",
          "text": [
            "Pipeline(memory='/tmp/tmpemd22ikc',\n",
            "         steps=[('scaler', MinMaxScaler()),\n",
            "                ('model',\n",
            "                 LogisticRegression(C=1, penalty='l1', random_state=1,\n",
            "                                    solver='saga'))])\n",
            "Pipeline(memory='/tmp/tmpemd22ikc',\n",
            "         steps=[('scaler', MinMaxScaler()),\n",
            "                ('model', LinearSVC(C=0.1, random_state=1))])\n",
            "Pipeline(memory='/tmp/tmpemd22ikc',\n",
            "         steps=[('scaler', MinMaxScaler()),\n",
            "                ('model',\n",
            "                 RandomForestClassifier(max_depth=44, n_estimators=12,\n",
            "                                        random_state=1))])\n",
            "Pipeline(memory='/tmp/tmpemd22ikc',\n",
            "         steps=[('scaler', MinMaxScaler()),\n",
            "                ('model',\n",
            "                 XGBClassifier(learning_rate=0.5, max_depth=8, n_estimators=52,\n",
            "                               random_state=1))])\n"
          ]
        }
      ],
      "source": [
        "# Checking for the best hyperparameters combination for each model\n",
        "\n",
        "print(logreg_fitted_grid.best_estimator_)\n",
        "\n",
        "print(svm_fitted_grid.best_estimator_)\n",
        "\n",
        "print(rf_fitted_grid.best_estimator_)\n",
        "\n",
        "print(xgb_fitted_grid.best_estimator_)"
      ]
    },
    {
      "cell_type": "code",
      "execution_count": 36,
      "metadata": {
        "colab": {
          "base_uri": "https://localhost:8080/"
        },
        "id": "GEZpd7SGS-Bu",
        "outputId": "d8d2195a-9c37-47c6-d552-190533a065f1"
      },
      "outputs": [
        {
          "name": "stdout",
          "output_type": "stream",
          "text": [
            "The best logistic regression's accuracy on the validation set: 0.8852941176470588\n",
            "The best logistic regression's accuracy on the remainder set: 0.8967963840017288\n",
            "The best logistic regression's accuracy on the test set: 0.8828102021093324\n",
            "\n",
            "The best svm's accuracy on the validation set: 0.885234093637455\n",
            "The best svm's accuracy on the remainder set: 0.8965442725684752\n",
            "The best svm's accuracy on the test set: 0.8827261649649145\n",
            "\n",
            "The best random forest's accuracy on the validation set: 0.834873949579832\n",
            "The best random forest's accuracy on the remainder set: 0.8741603788874682\n",
            "The best random forest's accuracy on the test set: 0.8269675196436825\n",
            "\n",
            "The best xgboost's accuracy on the validation set: 0.8657863145258103\n",
            "The best xgboost's accuracy on the remainder set: 0.8934649114908789\n",
            "The best xgboost's accuracy on the test set: 0.8657926803647212\n",
            "\n",
            "Baseline LogisticRegression accuracy on remainder set: 0.9030271379949938\n",
            "Baseline LogisticRegression accuracy on test set: 0.8897852850960124\n"
          ]
        }
      ],
      "source": [
        "# Print the accuracies from the best models\n",
        "\n",
        "print(f\"The best logistic regression's accuracy on the validation set: {logreg_fitted_grid.best_estimator_.score(scaler.transform(X_validation), y_validation)}\")\n",
        "print(f\"The best logistic regression's accuracy on the remainder set: {logreg_fitted_grid.best_estimator_.score(X_remainder_scaled, y_remainder)}\")\n",
        "print(f\"The best logistic regression's accuracy on the test set: {logreg_fitted_grid.best_estimator_.score(X_test_scaled, y_test)}\\n\")\n",
        "\n",
        "print(f\"The best svm's accuracy on the validation set: {svm_fitted_grid.best_estimator_.score(scaler.transform(X_validation), y_validation)}\")\n",
        "print(f\"The best svm's accuracy on the remainder set: {svm_fitted_grid.best_estimator_.score(X_remainder_scaled, y_remainder)}\")\n",
        "print(f\"The best svm's accuracy on the test set: {svm_fitted_grid.best_estimator_.score(X_test_scaled, y_test)}\\n\")\n",
        "\n",
        "print(f\"The best random forest's accuracy on the validation set: {rf_fitted_grid.best_estimator_.score(scaler.transform(X_validation), y_validation)}\")\n",
        "print(f\"The best random forest's accuracy on the remainder set: {rf_fitted_grid.best_estimator_.score(X_remainder_scaled, y_remainder)}\")\n",
        "print(f\"The best random forest's accuracy on the test set: {rf_fitted_grid.best_estimator_.score(X_test_scaled, y_test)}\\n\")\n",
        "\n",
        "print(f\"The best xgboost's accuracy on the validation set: {xgb_fitted_grid.best_estimator_.score(scaler.transform(X_validation), y_validation)}\")\n",
        "print(f\"The best xgboost's accuracy on the remainder set: {xgb_fitted_grid.best_estimator_.score(X_remainder_scaled, y_remainder)}\")\n",
        "print(f\"The best xgboost's accuracy on the test set: {xgb_fitted_grid.best_estimator_.score(X_test_scaled, y_test)}\\n\")\n",
        "\n",
        "# Print the accuracies from the baseline LogisticRegression for comparison\n",
        "print(f'Baseline LogisticRegression accuracy on remainder set: {baseline_logreg.score(X_remainder_scaled, y_remainder)}')\n",
        "print(f'Baseline LogisticRegression accuracy on test set: {baseline_logreg.score(X_test_scaled, y_test)}')"
      ]
    },
    {
      "cell_type": "markdown",
      "metadata": {
        "id": "cXHdAsQL_YGQ"
      },
      "source": [
        "I shall be conducting some model evaluations on the GridSearch LogisticRegression and XGBoost models and based on those evaluations will compare the model against the Baseline Logistic Regression.\n",
        "\n",
        "Summary of Best GS Model results that will be further evaluated:\n",
        "\n",
        "| GridSearch Best Model | Model Parameters/Estimators                                              | Validation Accuracy (%) | Remainder Accuracy (%) | Test Accuracy (%) |\n",
        "|-----------------------|--------------------------------------------------------------------------|:-----------------------:|:----------------------:|:-----------------:|\n",
        "| Logistic Regression   | C = 1, penalty = 'l1', random_state = 1, solver = 'saga'            |          88.53          |          89.68         |       88.28       |\n",
        "| XGBoost               | learning_rate = 0.5, max_depth = 8, n_estimators = 52, random_state = 1 |          86.58          |          89.35         |       86.58       |\n",
        "\n",
        "Summary of Baseline Logistic Regression Model results:\n",
        "\n",
        "| Baseline Model      | Default Model Parameters                | Remainder Accuracy (%) | Test Accuracy (%) |\n",
        "|---------------------|-----------------------------------------|:----------------------:|:-----------------:|\n",
        "| Logistic Regression | C = 1, penalty = 'l2', solver = 'lbfgs' |          90.03         |       88.98       |\n",
        "\n",
        "### Model Evaluation and Comparison\n",
        "\n",
        "Lets start by evalutating the GS LogisticRegression model:"
      ]
    },
    {
      "cell_type": "code",
      "execution_count": 37,
      "metadata": {
        "id": "Zu8ucV-rHZOI"
      },
      "outputs": [],
      "source": [
        "# Import libraries for evaluation\n",
        "from sklearn.metrics import plot_confusion_matrix, confusion_matrix, classification_report, precision_score, recall_score, f1_score\n",
        "from sklearn.metrics import classification_report\n",
        "from sklearn.metrics import mean_absolute_error, r2_score"
      ]
    },
    {
      "cell_type": "code",
      "execution_count": 39,
      "metadata": {
        "colab": {
          "base_uri": "https://localhost:8080/",
          "height": 112
        },
        "id": "dtwg7HOZJHNw",
        "outputId": "cd374c3f-fc4a-4e0e-cd01-023ea5672212"
      },
      "outputs": [
        {
          "data": {
            "text/html": [
              "\n",
              "  <div id=\"df-9d1d89fe-c7e7-4435-b866-575e24ddf647\">\n",
              "    <div class=\"colab-df-container\">\n",
              "      <div>\n",
              "<style scoped>\n",
              "    .dataframe tbody tr th:only-of-type {\n",
              "        vertical-align: middle;\n",
              "    }\n",
              "\n",
              "    .dataframe tbody tr th {\n",
              "        vertical-align: top;\n",
              "    }\n",
              "\n",
              "    .dataframe thead th {\n",
              "        text-align: right;\n",
              "    }\n",
              "</style>\n",
              "<table border=\"1\" class=\"dataframe\">\n",
              "  <thead>\n",
              "    <tr style=\"text-align: right;\">\n",
              "      <th></th>\n",
              "      <th>Predicted Real Reviews</th>\n",
              "      <th>Predicted Spam Reviews</th>\n",
              "    </tr>\n",
              "  </thead>\n",
              "  <tbody>\n",
              "    <tr>\n",
              "      <th>True Real Reviews</th>\n",
              "      <td>5358</td>\n",
              "      <td>1686</td>\n",
              "    </tr>\n",
              "    <tr>\n",
              "      <th>True Spam Reviews</th>\n",
              "      <td>1103</td>\n",
              "      <td>15652</td>\n",
              "    </tr>\n",
              "  </tbody>\n",
              "</table>\n",
              "</div>\n",
              "      <button class=\"colab-df-convert\" onclick=\"convertToInteractive('df-9d1d89fe-c7e7-4435-b866-575e24ddf647')\"\n",
              "              title=\"Convert this dataframe to an interactive table.\"\n",
              "              style=\"display:none;\">\n",
              "        \n",
              "  <svg xmlns=\"http://www.w3.org/2000/svg\" height=\"24px\"viewBox=\"0 0 24 24\"\n",
              "       width=\"24px\">\n",
              "    <path d=\"M0 0h24v24H0V0z\" fill=\"none\"/>\n",
              "    <path d=\"M18.56 5.44l.94 2.06.94-2.06 2.06-.94-2.06-.94-.94-2.06-.94 2.06-2.06.94zm-11 1L8.5 8.5l.94-2.06 2.06-.94-2.06-.94L8.5 2.5l-.94 2.06-2.06.94zm10 10l.94 2.06.94-2.06 2.06-.94-2.06-.94-.94-2.06-.94 2.06-2.06.94z\"/><path d=\"M17.41 7.96l-1.37-1.37c-.4-.4-.92-.59-1.43-.59-.52 0-1.04.2-1.43.59L10.3 9.45l-7.72 7.72c-.78.78-.78 2.05 0 2.83L4 21.41c.39.39.9.59 1.41.59.51 0 1.02-.2 1.41-.59l7.78-7.78 2.81-2.81c.8-.78.8-2.07 0-2.86zM5.41 20L4 18.59l7.72-7.72 1.47 1.35L5.41 20z\"/>\n",
              "  </svg>\n",
              "      </button>\n",
              "      \n",
              "  <style>\n",
              "    .colab-df-container {\n",
              "      display:flex;\n",
              "      flex-wrap:wrap;\n",
              "      gap: 12px;\n",
              "    }\n",
              "\n",
              "    .colab-df-convert {\n",
              "      background-color: #E8F0FE;\n",
              "      border: none;\n",
              "      border-radius: 50%;\n",
              "      cursor: pointer;\n",
              "      display: none;\n",
              "      fill: #1967D2;\n",
              "      height: 32px;\n",
              "      padding: 0 0 0 0;\n",
              "      width: 32px;\n",
              "    }\n",
              "\n",
              "    .colab-df-convert:hover {\n",
              "      background-color: #E2EBFA;\n",
              "      box-shadow: 0px 1px 2px rgba(60, 64, 67, 0.3), 0px 1px 3px 1px rgba(60, 64, 67, 0.15);\n",
              "      fill: #174EA6;\n",
              "    }\n",
              "\n",
              "    [theme=dark] .colab-df-convert {\n",
              "      background-color: #3B4455;\n",
              "      fill: #D2E3FC;\n",
              "    }\n",
              "\n",
              "    [theme=dark] .colab-df-convert:hover {\n",
              "      background-color: #434B5C;\n",
              "      box-shadow: 0px 1px 3px 1px rgba(0, 0, 0, 0.15);\n",
              "      filter: drop-shadow(0px 1px 2px rgba(0, 0, 0, 0.3));\n",
              "      fill: #FFFFFF;\n",
              "    }\n",
              "  </style>\n",
              "\n",
              "      <script>\n",
              "        const buttonEl =\n",
              "          document.querySelector('#df-9d1d89fe-c7e7-4435-b866-575e24ddf647 button.colab-df-convert');\n",
              "        buttonEl.style.display =\n",
              "          google.colab.kernel.accessAllowed ? 'block' : 'none';\n",
              "\n",
              "        async function convertToInteractive(key) {\n",
              "          const element = document.querySelector('#df-9d1d89fe-c7e7-4435-b866-575e24ddf647');\n",
              "          const dataTable =\n",
              "            await google.colab.kernel.invokeFunction('convertToInteractive',\n",
              "                                                     [key], {});\n",
              "          if (!dataTable) return;\n",
              "\n",
              "          const docLinkHtml = 'Like what you see? Visit the ' +\n",
              "            '<a target=\"_blank\" href=https://colab.research.google.com/notebooks/data_table.ipynb>data table notebook</a>'\n",
              "            + ' to learn more about interactive tables.';\n",
              "          element.innerHTML = '';\n",
              "          dataTable['output_type'] = 'display_data';\n",
              "          await google.colab.output.renderOutput(dataTable, element);\n",
              "          const docLink = document.createElement('div');\n",
              "          docLink.innerHTML = docLinkHtml;\n",
              "          element.appendChild(docLink);\n",
              "        }\n",
              "      </script>\n",
              "    </div>\n",
              "  </div>\n",
              "  "
            ],
            "text/plain": [
              "                   Predicted Real Reviews  Predicted Spam Reviews\n",
              "True Real Reviews                    5358                    1686\n",
              "True Spam Reviews                    1103                   15652"
            ]
          },
          "metadata": {},
          "output_type": "display_data"
        }
      ],
      "source": [
        "# Get class predictions\n",
        "y_pred_logreg_gs = logreg_fitted_grid.best_estimator_.predict(X_test_scaled)\n",
        "\n",
        "# Generate confusion matrix\n",
        "cf_matrix_gs = confusion_matrix(y_test, y_pred_logreg_gs)\n",
        "\n",
        "# label rows and columns\n",
        "cf_df_gs = pd.DataFrame(\n",
        "    cf_matrix_gs, \n",
        "    columns=[\"Predicted Real Reviews\", \"Predicted Spam Reviews\"],\n",
        "    index=[\"True Real Reviews\", \"True Spam Reviews\"]\n",
        ")\n",
        "\n",
        "display(cf_df_gs)"
      ]
    },
    {
      "cell_type": "code",
      "execution_count": 40,
      "metadata": {
        "colab": {
          "base_uri": "https://localhost:8080/",
          "height": 303
        },
        "id": "QRs_JSCnLPN4",
        "outputId": "94b4c912-7657-4dff-91c6-1d73eb1fd8fa"
      },
      "outputs": [
        {
          "data": {
            "image/png": "[encoded data removed]",
            "text/plain": [
              "<Figure size 432x288 with 2 Axes>"
            ]
          },
          "metadata": {},
          "output_type": "display_data"
        }
      ],
      "source": [
        "# Lets plot the confusion matrix to get a clearer view\n",
        "# the function expects the estimator, inputs and target as parameters\n",
        "plot_confusion_matrix(logreg_fitted_grid.best_estimator_, X_test_scaled, y_test)\n",
        "plt.grid(False)\n",
        "plt.title('GS LogReg Confusion Matrix', fontsize=15)\n",
        "plt.show()"
      ]
    },
    {
      "cell_type": "code",
      "execution_count": 41,
      "metadata": {
        "colab": {
          "base_uri": "https://localhost:8080/"
        },
        "id": "mLLQ5GgkLf3E",
        "outputId": "870cb96d-2c3c-4669-d7f8-f694778e6eff"
      },
      "outputs": [
        {
          "name": "stdout",
          "output_type": "stream",
          "text": [
            "              precision    recall  f1-score   support\n",
            "\n",
            "           0       0.83      0.76      0.79      7044\n",
            "           1       0.90      0.93      0.92     16755\n",
            "\n",
            "    accuracy                           0.88     23799\n",
            "   macro avg       0.87      0.85      0.86     23799\n",
            "weighted avg       0.88      0.88      0.88     23799\n",
            "\n"
          ]
        }
      ],
      "source": [
        "#Now the classification report can be generated\n",
        "report_logreg_gs = classification_report(y_test, y_pred_logreg_gs)\n",
        "print(report_logreg_gs)"
      ]
    },
    {
      "cell_type": "markdown",
      "metadata": {
        "id": "x_8Rrn9oNZYv"
      },
      "source": [
        "For this model we have an overall accuraxy of 88% which matches the accuracy for the test set from the checks done earlier. This is a great accuracy score overall, and we have a high recall rate of 93% for the spam reviews, with a 90% precision. These are really good results, meaning that out of all the possible spam reviews the model was able to correctly able to identify 93% of the spam reviews, with only a 7% misclassification. For classification models we want a higher recall rate because a lower recall rate indicates that lots of spam reviews are not being identified as spam and not being removed. This leads to products getting recommended more on the basis of spam reviews leading to a higher cost for the company. With a low recall rate, customers are more likely to purchase products with spam reviews that are bad quality, and are more likely to return the product for a refund. This drives up the cost for the company as they now have to process refunds, and handle the shipping of the product back to their warehouse or to the seller, also negativly impacting the company name and image to be associated with poor quality products, potentially causing a loss in customer base as they might seek out other sellers/providers for products they need.\n",
        "\n",
        "The low recall rate for the real reviews is not as big of an issue since it would cost the company much less to simply have a human do an overview of the misclassified real reviews, and then correctly mark them as real before they get posted back onto the product. The human would be able to process lots of reviews manually at a lower cost than compared to issuing refunds for multiple products and bearing the return shipping costs.\n",
        "\n",
        "The F1 score which is the harmonic mean of the precision and recall rates. An F1 score of 0.88 is great. Since we have a very close rate for the precision and recall the F1 score reflects that. An F1 score closer to 1 means the model is better at predicting the positive class (spam).\n",
        "\n",
        "A quick check to try and increase the recall rate can be done by lowering the y_proba (classification probability rate) from the default value of 0.5, to an updated value of 0.2. Lets see what affect it has:"
      ]
    },
    {
      "cell_type": "code",
      "execution_count": 42,
      "metadata": {
        "id": "eUr5SyAjRfZx"
      },
      "outputs": [],
      "source": [
        "# Make probabilistic predictions (scores)\n",
        "y_proba_logreg_gs = logreg_fitted_grid.best_estimator_.predict_proba(X_test_scaled)[:,1]"
      ]
    },
    {
      "cell_type": "code",
      "execution_count": 43,
      "metadata": {
        "colab": {
          "base_uri": "https://localhost:8080/"
        },
        "id": "es-jpDcvRxM6",
        "outputId": "4ad44b29-9e28-41ad-b9c4-31a017ef4e31"
      },
      "outputs": [
        {
          "name": "stdout",
          "output_type": "stream",
          "text": [
            "Threshold of 0.5:\n",
            "Precision score: 0.9027569500519091\n",
            "Recall score: 0.934168904804536\n",
            "F1 score: 0.9181943507464876\n",
            "\n",
            "Threshold of 0.2:\n",
            "Precision score: 0.8476180623803858\n",
            "Recall score: 0.9780364070426738\n",
            "F1 score: 0.908168920416759\n"
          ]
        }
      ],
      "source": [
        "# First calculate precision and recall using the default (0.5) cut-off\n",
        "y_threshold_logreg_gs = np.where(y_proba_logreg_gs > 0.5, 1, 0)\n",
        "print(\"Threshold of 0.5:\")\n",
        "print(f\"Precision score: {precision_score(y_test, y_threshold_logreg_gs)}\")\n",
        "print(f\"Recall score: {recall_score(y_test, y_threshold_logreg_gs)}\")\n",
        "print(f\"F1 score: {f1_score(y_test, y_threshold_logreg_gs)}\")\n",
        "print(\"\")\n",
        "\n",
        "# Calculate the same using a lower cut-off (0.2)\n",
        "y_threshold_logreg_gs = np.where(y_proba_logreg_gs > 0.2, 1, 0)\n",
        "print(\"Threshold of 0.2:\")\n",
        "print(f\"Precision score: {precision_score(y_test, y_threshold_logreg_gs)}\")\n",
        "print(f\"Recall score: {recall_score(y_test, y_threshold_logreg_gs)}\")\n",
        "print(f\"F1 score: {f1_score(y_test, y_threshold_logreg_gs)}\")"
      ]
    },
    {
      "cell_type": "markdown",
      "metadata": {
        "id": "kDf8Z50GSND0"
      },
      "source": [
        "Summary of results:\n",
        "1. Threshold goes down\n",
        "2. We predict more samples as spam\n",
        "3. We get more false positives which drives the precision down\n",
        "4. We get more true positives that drive the recall up\n",
        "\n",
        "So by reducing our y_proba threshold from 0.5 to 0.2, we are seeing a ~4% increase in the recall, but we also have a ~6% drop in the accuracy.\n",
        "\n",
        "Getting a ~4% increase in the recall rate is huge! To put it into contect, if a million reviews are being misclassified on the daily, by changing the y_proba rate to 0.2 instead of the default 0.5, an extra 40,000 spam reviews will be correctly identified as spam. This would have a positive impact on reducing the costs associated with misclassified spam reviews, and increasing customer satisfaction and company image."
      ]
    },
    {
      "cell_type": "markdown",
      "metadata": {
        "id": "3aT-MsXWThj2"
      },
      "source": [
        "Now, I shall evaluate the GridSearch XGBoost model:"
      ]
    },
    {
      "cell_type": "code",
      "execution_count": 44,
      "metadata": {
        "colab": {
          "base_uri": "https://localhost:8080/",
          "height": 642
        },
        "id": "4wEDaH2NTnAJ",
        "outputId": "aef2a82b-a366-4a11-c13c-71d0390a4f13"
      },
      "outputs": [
        {
          "data": {
            "text/html": [
              "\n",
              "  <div id=\"df-23277e3c-96fd-4dc0-b3c6-6d359e0d37b2\">\n",
              "    <div class=\"colab-df-container\">\n",
              "      <div>\n",
              "<style scoped>\n",
              "    .dataframe tbody tr th:only-of-type {\n",
              "        vertical-align: middle;\n",
              "    }\n",
              "\n",
              "    .dataframe tbody tr th {\n",
              "        vertical-align: top;\n",
              "    }\n",
              "\n",
              "    .dataframe thead th {\n",
              "        text-align: right;\n",
              "    }\n",
              "</style>\n",
              "<table border=\"1\" class=\"dataframe\">\n",
              "  <thead>\n",
              "    <tr style=\"text-align: right;\">\n",
              "      <th></th>\n",
              "      <th>mean_fit_time</th>\n",
              "      <th>std_fit_time</th>\n",
              "      <th>mean_score_time</th>\n",
              "      <th>std_score_time</th>\n",
              "      <th>param_model</th>\n",
              "      <th>param_model__learning_rate</th>\n",
              "      <th>param_model__max_depth</th>\n",
              "      <th>param_model__n_estimators</th>\n",
              "      <th>param_scaler</th>\n",
              "      <th>params</th>\n",
              "      <th>split0_test_score</th>\n",
              "      <th>split1_test_score</th>\n",
              "      <th>split2_test_score</th>\n",
              "      <th>split3_test_score</th>\n",
              "      <th>split4_test_score</th>\n",
              "      <th>mean_test_score</th>\n",
              "      <th>std_test_score</th>\n",
              "      <th>rank_test_score</th>\n",
              "    </tr>\n",
              "  </thead>\n",
              "  <tbody>\n",
              "    <tr>\n",
              "      <th>0</th>\n",
              "      <td>146.905780</td>\n",
              "      <td>2.087690</td>\n",
              "      <td>0.652465</td>\n",
              "      <td>0.178203</td>\n",
              "      <td>XGBClassifier(learning_rate=0.5, max_depth=8, ...</td>\n",
              "      <td>0.5</td>\n",
              "      <td>8</td>\n",
              "      <td>50</td>\n",
              "      <td>MinMaxScaler()</td>\n",
              "      <td>{'model': XGBClassifier(learning_rate=0.5, max...</td>\n",
              "      <td>0.863923</td>\n",
              "      <td>0.865835</td>\n",
              "      <td>0.870594</td>\n",
              "      <td>0.865063</td>\n",
              "      <td>0.865192</td>\n",
              "      <td>0.866121</td>\n",
              "      <td>0.002320</td>\n",
              "      <td>2</td>\n",
              "    </tr>\n",
              "    <tr>\n",
              "      <th>1</th>\n",
              "      <td>147.910148</td>\n",
              "      <td>2.486381</td>\n",
              "      <td>0.665017</td>\n",
              "      <td>0.182880</td>\n",
              "      <td>XGBClassifier(learning_rate=0.5, max_depth=8, ...</td>\n",
              "      <td>0.5</td>\n",
              "      <td>8</td>\n",
              "      <td>52</td>\n",
              "      <td>MinMaxScaler()</td>\n",
              "      <td>{'model': XGBClassifier(learning_rate=0.5, max...</td>\n",
              "      <td>0.863537</td>\n",
              "      <td>0.865578</td>\n",
              "      <td>0.871623</td>\n",
              "      <td>0.866349</td>\n",
              "      <td>0.866092</td>\n",
              "      <td>0.866636</td>\n",
              "      <td>0.002682</td>\n",
              "      <td>1</td>\n",
              "    </tr>\n",
              "    <tr>\n",
              "      <th>2</th>\n",
              "      <td>176.684105</td>\n",
              "      <td>3.303843</td>\n",
              "      <td>0.730257</td>\n",
              "      <td>0.195043</td>\n",
              "      <td>XGBClassifier(learning_rate=0.5, max_depth=8, ...</td>\n",
              "      <td>0.5</td>\n",
              "      <td>10</td>\n",
              "      <td>50</td>\n",
              "      <td>MinMaxScaler()</td>\n",
              "      <td>{'model': XGBClassifier(learning_rate=0.5, max...</td>\n",
              "      <td>0.863537</td>\n",
              "      <td>0.863391</td>\n",
              "      <td>0.870208</td>\n",
              "      <td>0.863905</td>\n",
              "      <td>0.867636</td>\n",
              "      <td>0.865735</td>\n",
              "      <td>0.002731</td>\n",
              "      <td>3</td>\n",
              "    </tr>\n",
              "    <tr>\n",
              "      <th>3</th>\n",
              "      <td>180.895254</td>\n",
              "      <td>3.025436</td>\n",
              "      <td>0.632501</td>\n",
              "      <td>0.144589</td>\n",
              "      <td>XGBClassifier(learning_rate=0.5, max_depth=8, ...</td>\n",
              "      <td>0.5</td>\n",
              "      <td>10</td>\n",
              "      <td>52</td>\n",
              "      <td>MinMaxScaler()</td>\n",
              "      <td>{'model': XGBClassifier(learning_rate=0.5, max...</td>\n",
              "      <td>0.863666</td>\n",
              "      <td>0.863519</td>\n",
              "      <td>0.869694</td>\n",
              "      <td>0.862876</td>\n",
              "      <td>0.866864</td>\n",
              "      <td>0.865324</td>\n",
              "      <td>0.002587</td>\n",
              "      <td>4</td>\n",
              "    </tr>\n",
              "    <tr>\n",
              "      <th>4</th>\n",
              "      <td>145.054125</td>\n",
              "      <td>3.352879</td>\n",
              "      <td>0.652766</td>\n",
              "      <td>0.152186</td>\n",
              "      <td>XGBClassifier(learning_rate=0.5, max_depth=8, ...</td>\n",
              "      <td>1</td>\n",
              "      <td>8</td>\n",
              "      <td>50</td>\n",
              "      <td>MinMaxScaler()</td>\n",
              "      <td>{'model': XGBClassifier(learning_rate=0.5, max...</td>\n",
              "      <td>0.859293</td>\n",
              "      <td>0.855030</td>\n",
              "      <td>0.860947</td>\n",
              "      <td>0.855673</td>\n",
              "      <td>0.860046</td>\n",
              "      <td>0.858198</td>\n",
              "      <td>0.002391</td>\n",
              "      <td>8</td>\n",
              "    </tr>\n",
              "    <tr>\n",
              "      <th>5</th>\n",
              "      <td>149.152781</td>\n",
              "      <td>1.806393</td>\n",
              "      <td>0.767181</td>\n",
              "      <td>0.218623</td>\n",
              "      <td>XGBClassifier(learning_rate=0.5, max_depth=8, ...</td>\n",
              "      <td>1</td>\n",
              "      <td>8</td>\n",
              "      <td>52</td>\n",
              "      <td>MinMaxScaler()</td>\n",
              "      <td>{'model': XGBClassifier(learning_rate=0.5, max...</td>\n",
              "      <td>0.859678</td>\n",
              "      <td>0.857216</td>\n",
              "      <td>0.860046</td>\n",
              "      <td>0.857088</td>\n",
              "      <td>0.859789</td>\n",
              "      <td>0.858764</td>\n",
              "      <td>0.001322</td>\n",
              "      <td>5</td>\n",
              "    </tr>\n",
              "    <tr>\n",
              "      <th>6</th>\n",
              "      <td>178.800147</td>\n",
              "      <td>2.901707</td>\n",
              "      <td>0.722844</td>\n",
              "      <td>0.169494</td>\n",
              "      <td>XGBClassifier(learning_rate=0.5, max_depth=8, ...</td>\n",
              "      <td>1</td>\n",
              "      <td>10</td>\n",
              "      <td>50</td>\n",
              "      <td>MinMaxScaler()</td>\n",
              "      <td>{'model': XGBClassifier(learning_rate=0.5, max...</td>\n",
              "      <td>0.855820</td>\n",
              "      <td>0.862233</td>\n",
              "      <td>0.858117</td>\n",
              "      <td>0.856316</td>\n",
              "      <td>0.859660</td>\n",
              "      <td>0.858429</td>\n",
              "      <td>0.002339</td>\n",
              "      <td>7</td>\n",
              "    </tr>\n",
              "    <tr>\n",
              "      <th>7</th>\n",
              "      <td>183.737794</td>\n",
              "      <td>2.348765</td>\n",
              "      <td>0.771566</td>\n",
              "      <td>0.218633</td>\n",
              "      <td>XGBClassifier(learning_rate=0.5, max_depth=8, ...</td>\n",
              "      <td>1</td>\n",
              "      <td>10</td>\n",
              "      <td>52</td>\n",
              "      <td>MinMaxScaler()</td>\n",
              "      <td>{'model': XGBClassifier(learning_rate=0.5, max...</td>\n",
              "      <td>0.855691</td>\n",
              "      <td>0.862876</td>\n",
              "      <td>0.858245</td>\n",
              "      <td>0.856702</td>\n",
              "      <td>0.860175</td>\n",
              "      <td>0.858738</td>\n",
              "      <td>0.002564</td>\n",
              "      <td>6</td>\n",
              "    </tr>\n",
              "  </tbody>\n",
              "</table>\n",
              "</div>\n",
              "      <button class=\"colab-df-convert\" onclick=\"convertToInteractive('df-23277e3c-96fd-4dc0-b3c6-6d359e0d37b2')\"\n",
              "              title=\"Convert this dataframe to an interactive table.\"\n",
              "              style=\"display:none;\">\n",
              "        \n",
              "  <svg xmlns=\"http://www.w3.org/2000/svg\" height=\"24px\"viewBox=\"0 0 24 24\"\n",
              "       width=\"24px\">\n",
              "    <path d=\"M0 0h24v24H0V0z\" fill=\"none\"/>\n",
              "    <path d=\"M18.56 5.44l.94 2.06.94-2.06 2.06-.94-2.06-.94-.94-2.06-.94 2.06-2.06.94zm-11 1L8.5 8.5l.94-2.06 2.06-.94-2.06-.94L8.5 2.5l-.94 2.06-2.06.94zm10 10l.94 2.06.94-2.06 2.06-.94-2.06-.94-.94-2.06-.94 2.06-2.06.94z\"/><path d=\"M17.41 7.96l-1.37-1.37c-.4-.4-.92-.59-1.43-.59-.52 0-1.04.2-1.43.59L10.3 9.45l-7.72 7.72c-.78.78-.78 2.05 0 2.83L4 21.41c.39.39.9.59 1.41.59.51 0 1.02-.2 1.41-.59l7.78-7.78 2.81-2.81c.8-.78.8-2.07 0-2.86zM5.41 20L4 18.59l7.72-7.72 1.47 1.35L5.41 20z\"/>\n",
              "  </svg>\n",
              "      </button>\n",
              "      \n",
              "  <style>\n",
              "    .colab-df-container {\n",
              "      display:flex;\n",
              "      flex-wrap:wrap;\n",
              "      gap: 12px;\n",
              "    }\n",
              "\n",
              "    .colab-df-convert {\n",
              "      background-color: #E8F0FE;\n",
              "      border: none;\n",
              "      border-radius: 50%;\n",
              "      cursor: pointer;\n",
              "      display: none;\n",
              "      fill: #1967D2;\n",
              "      height: 32px;\n",
              "      padding: 0 0 0 0;\n",
              "      width: 32px;\n",
              "    }\n",
              "\n",
              "    .colab-df-convert:hover {\n",
              "      background-color: #E2EBFA;\n",
              "      box-shadow: 0px 1px 2px rgba(60, 64, 67, 0.3), 0px 1px 3px 1px rgba(60, 64, 67, 0.15);\n",
              "      fill: #174EA6;\n",
              "    }\n",
              "\n",
              "    [theme=dark] .colab-df-convert {\n",
              "      background-color: #3B4455;\n",
              "      fill: #D2E3FC;\n",
              "    }\n",
              "\n",
              "    [theme=dark] .colab-df-convert:hover {\n",
              "      background-color: #434B5C;\n",
              "      box-shadow: 0px 1px 3px 1px rgba(0, 0, 0, 0.15);\n",
              "      filter: drop-shadow(0px 1px 2px rgba(0, 0, 0, 0.3));\n",
              "      fill: #FFFFFF;\n",
              "    }\n",
              "  </style>\n",
              "\n",
              "      <script>\n",
              "        const buttonEl =\n",
              "          document.querySelector('#df-23277e3c-96fd-4dc0-b3c6-6d359e0d37b2 button.colab-df-convert');\n",
              "        buttonEl.style.display =\n",
              "          google.colab.kernel.accessAllowed ? 'block' : 'none';\n",
              "\n",
              "        async function convertToInteractive(key) {\n",
              "          const element = document.querySelector('#df-23277e3c-96fd-4dc0-b3c6-6d359e0d37b2');\n",
              "          const dataTable =\n",
              "            await google.colab.kernel.invokeFunction('convertToInteractive',\n",
              "                                                     [key], {});\n",
              "          if (!dataTable) return;\n",
              "\n",
              "          const docLinkHtml = 'Like what you see? Visit the ' +\n",
              "            '<a target=\"_blank\" href=https://colab.research.google.com/notebooks/data_table.ipynb>data table notebook</a>'\n",
              "            + ' to learn more about interactive tables.';\n",
              "          element.innerHTML = '';\n",
              "          dataTable['output_type'] = 'display_data';\n",
              "          await google.colab.output.renderOutput(dataTable, element);\n",
              "          const docLink = document.createElement('div');\n",
              "          docLink.innerHTML = docLinkHtml;\n",
              "          element.appendChild(docLink);\n",
              "        }\n",
              "      </script>\n",
              "    </div>\n",
              "  </div>\n",
              "  "
            ],
            "text/plain": [
              "   mean_fit_time  std_fit_time  mean_score_time  std_score_time  \\\n",
              "0     146.905780      2.087690         0.652465        0.178203   \n",
              "1     147.910148      2.486381         0.665017        0.182880   \n",
              "2     176.684105      3.303843         0.730257        0.195043   \n",
              "3     180.895254      3.025436         0.632501        0.144589   \n",
              "4     145.054125      3.352879         0.652766        0.152186   \n",
              "5     149.152781      1.806393         0.767181        0.218623   \n",
              "6     178.800147      2.901707         0.722844        0.169494   \n",
              "7     183.737794      2.348765         0.771566        0.218633   \n",
              "\n",
              "                                         param_model  \\\n",
              "0  XGBClassifier(learning_rate=0.5, max_depth=8, ...   \n",
              "1  XGBClassifier(learning_rate=0.5, max_depth=8, ...   \n",
              "2  XGBClassifier(learning_rate=0.5, max_depth=8, ...   \n",
              "3  XGBClassifier(learning_rate=0.5, max_depth=8, ...   \n",
              "4  XGBClassifier(learning_rate=0.5, max_depth=8, ...   \n",
              "5  XGBClassifier(learning_rate=0.5, max_depth=8, ...   \n",
              "6  XGBClassifier(learning_rate=0.5, max_depth=8, ...   \n",
              "7  XGBClassifier(learning_rate=0.5, max_depth=8, ...   \n",
              "\n",
              "  param_model__learning_rate param_model__max_depth param_model__n_estimators  \\\n",
              "0                        0.5                      8                        50   \n",
              "1                        0.5                      8                        52   \n",
              "2                        0.5                     10                        50   \n",
              "3                        0.5                     10                        52   \n",
              "4                          1                      8                        50   \n",
              "5                          1                      8                        52   \n",
              "6                          1                     10                        50   \n",
              "7                          1                     10                        52   \n",
              "\n",
              "     param_scaler                                             params  \\\n",
              "0  MinMaxScaler()  {'model': XGBClassifier(learning_rate=0.5, max...   \n",
              "1  MinMaxScaler()  {'model': XGBClassifier(learning_rate=0.5, max...   \n",
              "2  MinMaxScaler()  {'model': XGBClassifier(learning_rate=0.5, max...   \n",
              "3  MinMaxScaler()  {'model': XGBClassifier(learning_rate=0.5, max...   \n",
              "4  MinMaxScaler()  {'model': XGBClassifier(learning_rate=0.5, max...   \n",
              "5  MinMaxScaler()  {'model': XGBClassifier(learning_rate=0.5, max...   \n",
              "6  MinMaxScaler()  {'model': XGBClassifier(learning_rate=0.5, max...   \n",
              "7  MinMaxScaler()  {'model': XGBClassifier(learning_rate=0.5, max...   \n",
              "\n",
              "   split0_test_score  split1_test_score  split2_test_score  split3_test_score  \\\n",
              "0           0.863923           0.865835           0.870594           0.865063   \n",
              "1           0.863537           0.865578           0.871623           0.866349   \n",
              "2           0.863537           0.863391           0.870208           0.863905   \n",
              "3           0.863666           0.863519           0.869694           0.862876   \n",
              "4           0.859293           0.855030           0.860947           0.855673   \n",
              "5           0.859678           0.857216           0.860046           0.857088   \n",
              "6           0.855820           0.862233           0.858117           0.856316   \n",
              "7           0.855691           0.862876           0.858245           0.856702   \n",
              "\n",
              "   split4_test_score  mean_test_score  std_test_score  rank_test_score  \n",
              "0           0.865192         0.866121        0.002320                2  \n",
              "1           0.866092         0.866636        0.002682                1  \n",
              "2           0.867636         0.865735        0.002731                3  \n",
              "3           0.866864         0.865324        0.002587                4  \n",
              "4           0.860046         0.858198        0.002391                8  \n",
              "5           0.859789         0.858764        0.001322                5  \n",
              "6           0.859660         0.858429        0.002339                7  \n",
              "7           0.860175         0.858738        0.002564                6  "
            ]
          },
          "execution_count": 44,
          "metadata": {},
          "output_type": "execute_result"
        }
      ],
      "source": [
        "# Checking the results of the XGBoost model run\n",
        "results_xgb = pd.DataFrame(xgb_fitted_grid.cv_results_)\n",
        "results_xgb"
      ]
    },
    {
      "cell_type": "code",
      "execution_count": 45,
      "metadata": {
        "colab": {
          "base_uri": "https://localhost:8080/",
          "height": 285
        },
        "id": "6cVE1Sw6Y9ja",
        "outputId": "f9ee7d22-c96a-44c4-e34f-7e49200441f4"
      },
      "outputs": [
        {
          "data": {
            "image/png": "[encoded data removed]",
            "text/plain": [
              "<Figure size 432x288 with 2 Axes>"
            ]
          },
          "metadata": {},
          "output_type": "display_data"
        }
      ],
      "source": [
        "# Lets plot a heatmap for ease of interpretability\n",
        "sns.heatmap(\n",
        "    results_xgb.reset_index().pivot_table(index = \"param_model__max_depth\", columns = \"param_model__n_estimators\", values = \"mean_test_score\"),\n",
        "    cmap = \"Reds\", annot = True, fmt = \"0.3%\"\n",
        ")\n",
        "plt.show()"
      ]
    },
    {
      "cell_type": "markdown",
      "metadata": {
        "id": "CTuQr0GoaIwC"
      },
      "source": [
        "As seen from the heatmap above, the best parameters were a max_depth of 10, and 52 number of estimators. \n",
        "\n",
        "Lets now check the Mean Absolute Erros and R-square values for the XGBoost model:"
      ]
    },
    {
      "cell_type": "code",
      "execution_count": 46,
      "metadata": {
        "id": "rU40pxJnZBWR"
      },
      "outputs": [],
      "source": [
        "# Getting the predictions\n",
        "xgb_y_pred_rem = xgb_fitted_grid.best_estimator_.predict(X_remainder_scaled)\n",
        "xgb_y_pred_test = xgb_fitted_grid.best_estimator_.predict(X_test_scaled)"
      ]
    },
    {
      "cell_type": "code",
      "execution_count": 47,
      "metadata": {
        "colab": {
          "base_uri": "https://localhost:8080/"
        },
        "id": "ZBvNn9QXbMuW",
        "outputId": "5a0ac8e4-2b0c-44f8-e782-3a9ca4722afd"
      },
      "outputs": [
        {
          "name": "stdout",
          "output_type": "stream",
          "text": [
            "GS XGBoost Remainder MAE --- 0.10653508850912104\n",
            "GS XGBoost Test MAE ---- 0.1342073196352788\n",
            "GS XGBoost Remainder R2 ---- 0.4887527371772995\n",
            "GS XGBoost Test R2 ----- 0.3559347892286724\n"
          ]
        }
      ],
      "source": [
        "# Evaluate Model\n",
        "print(f'GS XGBoost Remainder MAE --- {mean_absolute_error(y_remainder, xgb_y_pred_rem)}')\n",
        "print(f'GS XGBoost Test MAE ---- {mean_absolute_error(y_test, xgb_y_pred_test)}')\n",
        "print(f'GS XGBoost Remainder R2 ---- {r2_score(y_remainder, xgb_y_pred_rem)}')\n",
        "print(f'GS XGBoost Test R2 ----- {r2_score(y_test, xgb_y_pred_test)}')"
      ]
    },
    {
      "cell_type": "markdown",
      "metadata": {
        "id": "vn4oTEk9dP6T"
      },
      "source": [
        "Since, this is a classification problem, the MAE and R2 values do not shed any clear light on the model evalutaions.\n",
        "\n",
        "Instead I shall plot the confusion matrix, and check the precision, recall, and F1 score. After that a quick plot for checking the change in the y_proba threshold and its effect on the precision and recall will be checked.\n",
        "\n",
        "Lets plot the confusion matrix:"
      ]
    },
    {
      "cell_type": "code",
      "execution_count": 48,
      "metadata": {
        "colab": {
          "base_uri": "https://localhost:8080/",
          "height": 320
        },
        "id": "Sbr2LgUhbdQs",
        "outputId": "f4f081eb-02d7-4abe-c053-b9e45a60e895"
      },
      "outputs": [
        {
          "data": {
            "text/plain": [
              "Text(0.5, 1.0, 'GS XGBoost Confusion Matrix')"
            ]
          },
          "execution_count": 48,
          "metadata": {},
          "output_type": "execute_result"
        },
        {
          "data": {
            "image/png": "[encoded data removed]",
            "text/plain": [
              "<Figure size 432x288 with 2 Axes>"
            ]
          },
          "metadata": {},
          "output_type": "display_data"
        }
      ],
      "source": [
        "# Lets plot the confusion matrix to get a clearer view\n",
        "# the function expects the estimator, inputs and target as parameters\n",
        "plot_confusion_matrix(xgb_fitted_grid.best_estimator_, X_test_scaled, y_test)\n",
        "plt.grid(False)\n",
        "plt.title('GS XGBoost Confusion Matrix', fontsize=15)\n",
        "plt.show()"
      ]
    },
    {
      "cell_type": "code",
      "execution_count": 49,
      "metadata": {
        "colab": {
          "base_uri": "https://localhost:8080/"
        },
        "id": "BfXimx0EidYb",
        "outputId": "a73408eb-1f74-4d40-ae09-689454e0a485"
      },
      "outputs": [
        {
          "name": "stdout",
          "output_type": "stream",
          "text": [
            "              precision    recall  f1-score   support\n",
            "\n",
            "           0       0.82      0.70      0.76      7044\n",
            "           1       0.88      0.94      0.91     16755\n",
            "\n",
            "    accuracy                           0.87     23799\n",
            "   macro avg       0.85      0.82      0.83     23799\n",
            "weighted avg       0.86      0.87      0.86     23799\n",
            "\n"
          ]
        }
      ],
      "source": [
        "# Get class predictions\n",
        "y_pred_xgb_gs = xgb_fitted_grid.best_estimator_.predict(X_test_scaled)\n",
        "\n",
        "#Now the classification report can be generated\n",
        "report_xgb = classification_report(y_test, y_pred_xgb_gs)\n",
        "print(report_xgb)"
      ]
    },
    {
      "cell_type": "markdown",
      "metadata": {
        "id": "iT0cfp3Okoi8"
      },
      "source": [
        "For this model we have an overall accuraxy of ~87% which matches the accuracy for the test set from the checks done earlier. This is a great accuracy score overall, and we have a high recall rate of 94% for the spam reviews, with a 88% precision. These are really good results, meaning that out of all the possible spam reviews the model was able to correctly able to identify 94% of the spam reviews, with only a 6% misclassification. For classification models we want a higher recall rate because a lower recall rate indicates that lots of spam reviews are not being identified as spam and not being removed. This leads to products getting recommended more on the basis of spam reviews leading to a higher cost for the company. With a low recall rate, customers are more likely to purchase products with spam reviews that are bad quality, and are more likely to return the product for a refund. This drives up the cost for the company as they now have to process refunds, and handle the shipping of the product back to their warehouse or to the seller, also negativly impacting the company name and image to be associated with poor quality products, potentially causing a loss in customer base as they might seek out other sellers/providers for products they need.\n",
        "\n",
        "The low recall rate for the real reviews is not as big of an issue since it would cost the company much less to simply have a human do an overview of the misclassified real reviews, and then correctly mark them as real before they get posted back onto the product. The human would be able to process lots of reviews manually at a lower cost than compared to issuing refunds for multiple products and bearing the return shipping costs.\n",
        "\n",
        "The F1 score which is the harmonic mean of the precision and recall rates. An F1 score of 0.86 is great, but this is still lower than the F1 score for the GridSearch LogisticRegression model. Since we have a very close rate for the precision and recall the F1 score reflects that. An F1 score closer to 1 means the model is better at predicting the positive class (spam).\n",
        "\n",
        "A quick check to try and increase the recall rate can be done by lowering the y_proba (classification probability rate) from the default value of 0.5, to an updated value of 0.2. Lets see what affect it has:"
      ]
    },
    {
      "cell_type": "code",
      "execution_count": 50,
      "metadata": {
        "id": "hNNdb3MYjb-K"
      },
      "outputs": [],
      "source": [
        "# Make probabilistic predictions (scores)\n",
        "y_proba_xgb_gs = xgb_fitted_grid.best_estimator_.predict_proba(X_test_scaled)[:,1]"
      ]
    },
    {
      "cell_type": "code",
      "execution_count": 51,
      "metadata": {
        "colab": {
          "base_uri": "https://localhost:8080/"
        },
        "id": "GGIvXO3Clio8",
        "outputId": "749ace14-56f6-4c79-a59e-fed538a07346"
      },
      "outputs": [
        {
          "name": "stdout",
          "output_type": "stream",
          "text": [
            "Threshold of 0.5:\n",
            "Precision score: 0.881076827966054\n",
            "Recall score: 0.9356609967173978\n",
            "F1 score: 0.907548917448188\n",
            "\n",
            "Threshold of 0.2:\n",
            "Precision score: 0.7986593364197531\n",
            "Recall score: 0.9884213667561922\n",
            "F1 score: 0.8834653650209383\n"
          ]
        }
      ],
      "source": [
        "# First calculate precision and recall using the default (0.5) cut-off\n",
        "y_threshold_xgb_gs = np.where(y_proba_xgb_gs > 0.5, 1, 0)\n",
        "print(\"Threshold of 0.5:\")\n",
        "print(f\"Precision score: {precision_score(y_test, y_threshold_xgb_gs)}\")\n",
        "print(f\"Recall score: {recall_score(y_test, y_threshold_xgb_gs)}\")\n",
        "print(f\"F1 score: {f1_score(y_test, y_threshold_xgb_gs)}\")\n",
        "print(\"\")\n",
        "\n",
        "# Calculate the same using a lower cut-off (0.2)\n",
        "y_threshold_xgb_gs = np.where(y_proba_xgb_gs > 0.2, 1, 0)\n",
        "print(\"Threshold of 0.2:\")\n",
        "print(f\"Precision score: {precision_score(y_test, y_threshold_xgb_gs)}\")\n",
        "print(f\"Recall score: {recall_score(y_test, y_threshold_xgb_gs)}\")\n",
        "print(f\"F1 score: {f1_score(y_test, y_threshold_xgb_gs)}\")"
      ]
    },
    {
      "cell_type": "markdown",
      "metadata": {
        "id": "xvIzmfh_mJr_"
      },
      "source": [
        "Summary of results:\n",
        "1. Threshold goes down\n",
        "2. We predict more samples as spam\n",
        "3. We get more false positives which drives the precision down\n",
        "4. We get more true positives that drive the recall up\n",
        "\n",
        "So by reducing our y_proba threshold from 0.5 to 0.2, we are seeing a ~5% increase in the recall, but we also have a ~8% drop in the accuracy.\n",
        "\n",
        "Getting a ~5% increase in the recall rate is huge! To put it into contect, if a million reviews are being misclassified on the daily, by changing the y_proba rate to 0.2 instead of the default 0.5, an extra 50,000 spam reviews will be correctly identified as spam. This would have a positive impact on reducing the costs associated with misclassified spam reviews, and increasing customer satisfaction and company image.\n",
        "\n",
        "Due to the higher drop in the precision, and only 1% extra increase in the recall rate, I would say that the GS LogisticRegression is the better model option. The main reason influencing my choise here is the run-time and computational resources required for a XGBoost model are much (more than triple the run-time for my GridSearch) higher in comparison with the LogisticRegression.\n",
        "\n",
        "For the final model evaluation, I shall repeat the checks on the Baseline Logistic Regression model, and then come to a final decision about which model had the best performance.\n",
        "\n",
        "Lets start by plotting the confusion matrix:"
      ]
    },
    {
      "cell_type": "code",
      "execution_count": 52,
      "metadata": {
        "colab": {
          "base_uri": "https://localhost:8080/",
          "height": 303
        },
        "id": "mrX8243_l6Rn",
        "outputId": "0a7d5342-2d97-49df-eb3d-b0cf55699e3b"
      },
      "outputs": [
        {
          "data": {
            "image/png": "[encoded data removed]",
            "text/plain": [
              "<Figure size 432x288 with 2 Axes>"
            ]
          },
          "metadata": {},
          "output_type": "display_data"
        }
      ],
      "source": [
        "# Lets plot the confusion matrix to get a clearer view\n",
        "# the function expects the estimator, inputs and target as parameters\n",
        "plot_confusion_matrix(baseline_logreg, X_test_scaled, y_test)\n",
        "plt.grid(False)\n",
        "plt.title('Baseline LogReg Confusion Matrix', fontsize=15)\n",
        "\n",
        "#Saving the plot for Capstone EDA Showcase\n",
        "plt.savefig('Baseline LogReg Confusion Matrix.jpeg', bbox_inches='tight')\n",
        "\n",
        "plt.show()"
      ]
    },
    {
      "cell_type": "code",
      "execution_count": 53,
      "metadata": {
        "colab": {
          "base_uri": "https://localhost:8080/"
        },
        "id": "X3-6Na5UoHTV",
        "outputId": "20ec82e4-67a9-40f8-8e9d-f5305d83156c"
      },
      "outputs": [
        {
          "name": "stdout",
          "output_type": "stream",
          "text": [
            "              precision    recall  f1-score   support\n",
            "\n",
            "           0       0.85      0.77      0.80      7044\n",
            "           1       0.91      0.94      0.92     16755\n",
            "\n",
            "    accuracy                           0.89     23799\n",
            "   macro avg       0.88      0.85      0.86     23799\n",
            "weighted avg       0.89      0.89      0.89     23799\n",
            "\n"
          ]
        }
      ],
      "source": [
        "# Get class predictions\n",
        "y_pred_base_logreg = baseline_logreg.predict(X_test_scaled)\n",
        "\n",
        "#Now the classification report can be generated\n",
        "report_logreg_base = classification_report(y_test, y_pred_base_logreg)\n",
        "print(report_logreg_base)"
      ]
    },
    {
      "cell_type": "markdown",
      "metadata": {
        "id": "MkFXlCb-ohQM"
      },
      "source": [
        "For this model we have an overall accuraxy of ~89% which matches the accuracy for the test set from the checks done earlier. This is a great accuracy score overall, and we have a high recall rate of 94% for the spam reviews, with a 91% precision. These are really good results, meaning that out of all the possible spam reviews the model was able to correctly able to identify 94% of the spam reviews, with only a 6% misclassification. For classification models we want a higher recall rate because a lower recall rate indicates that lots of spam reviews are not being identified as spam and not being removed. This leads to products getting recommended more on the basis of spam reviews leading to a higher cost for the company. With a low recall rate, customers are more likely to purchase products with spam reviews that are bad quality, and are more likely to return the product for a refund. This drives up the cost for the company as they now have to process refunds, and handle the shipping of the product back to their warehouse or to the seller, also negativly impacting the company name and image to be associated with poor quality products, potentially causing a loss in customer base as they might seek out other sellers/providers for products they need.\n",
        "\n",
        "The low recall rate for the real reviews is not as big of an issue since it would cost the company much less to simply have a human do an overview of the misclassified real reviews, and then correctly mark them as real before they get posted back onto the product. The human would be able to process lots of reviews manually at a lower cost than compared to issuing refunds for multiple products and bearing the return shipping costs.\n",
        "\n",
        "The F1 score which is the harmonic mean of the precision and recall rates. An F1 score of 0.89 is great, this is the highest F1 score out of all three models being evaluated. Since we have a very close rate for the precision and recall the F1 score reflects that. An F1 score closer to 1 means the model is better at predicting the positive class (spam).\n",
        "\n",
        "A quick check to try and increase the recall rate can be done by lowering the y_proba (classification probability rate) from the default value of 0.5, to an updated value of 0.2. Lets see what affect it has:"
      ]
    },
    {
      "cell_type": "code",
      "execution_count": 54,
      "metadata": {
        "id": "4OvMOYYjobur"
      },
      "outputs": [],
      "source": [
        "# Make probabilistic predictions (scores)\n",
        "y_proba_logreg_base = baseline_logreg.predict_proba(X_test_scaled)[:,1]"
      ]
    },
    {
      "cell_type": "code",
      "execution_count": 55,
      "metadata": {
        "colab": {
          "base_uri": "https://localhost:8080/"
        },
        "id": "d09c7e6MpFbU",
        "outputId": "557ce6d0-af68-4a50-95d9-2e288066a432"
      },
      "outputs": [
        {
          "name": "stdout",
          "output_type": "stream",
          "text": [
            "Threshold of 0.5:\n",
            "Precision score: 0.9055791527953163\n",
            "Recall score: 0.9416293643688451\n",
            "F1 score: 0.9232524797378355\n",
            "\n",
            "Threshold of 0.2:\n",
            "Precision score: 0.8384689578151175\n",
            "Recall score: 0.9857952849895554\n",
            "F1 score: 0.9061831349097493\n"
          ]
        }
      ],
      "source": [
        "# First calculate precision and recall using the default (0.5) cut-off\n",
        "y_threshold_logreg_base = np.where(y_proba_logreg_base > 0.5, 1, 0)\n",
        "print(\"Threshold of 0.5:\")\n",
        "print(f\"Precision score: {precision_score(y_test, y_threshold_logreg_base)}\")\n",
        "print(f\"Recall score: {recall_score(y_test, y_threshold_logreg_base)}\")\n",
        "print(f\"F1 score: {f1_score(y_test, y_threshold_logreg_base)}\")\n",
        "print(\"\")\n",
        "\n",
        "# Calculate the same using a lower cut-off (0.2)\n",
        "y_threshold_logreg_base = np.where(y_proba_logreg_base > 0.2, 1, 0)\n",
        "print(\"Threshold of 0.2:\")\n",
        "print(f\"Precision score: {precision_score(y_test, y_threshold_logreg_base)}\")\n",
        "print(f\"Recall score: {recall_score(y_test, y_threshold_logreg_base)}\")\n",
        "print(f\"F1 score: {f1_score(y_test, y_threshold_logreg_base)}\")"
      ]
    },
    {
      "cell_type": "markdown",
      "metadata": {
        "id": "rkImcDMapWgL"
      },
      "source": [
        "Summary of results:\n",
        "1. Threshold goes down\n",
        "2. We predict more samples as spam\n",
        "3. We get more false positives which drives the precision down\n",
        "4. We get more true positives that drive the recall up\n",
        "\n",
        "So by reducing our y_proba threshold from 0.5 to 0.2, we are seeing a ~4.5% increase in the recall, but we also have a ~7% drop in the accuracy.\n",
        "\n",
        "Getting a ~4.5% increase in the recall rate is huge! To put it into contect, if a million reviews are being misclassified on the daily, by changing the y_proba rate to 0.2 instead of the default 0.5, an extra 45,000 spam reviews will be correctly identified as spam. This would have a positive impact on reducing the costs associated with misclassified spam reviews, and increasing customer satisfaction and company image.\n",
        "\n",
        "Lets create a summary table for all of the precision and recall rate updates with the drop in the threshold for all three models:\n",
        "\n",
        "|                                |                                                                          |                     |  Threshold = 0.5 |              |   |                     |  Threshold = 0.2 |              |\n",
        "|--------------------------------|--------------------------------------------------------------------------|:-------------------:|:----------------:|:------------:|---|:-------------------:|:----------------:|:------------:|\n",
        "| Model                          |                         Default Model Parameters                         | Precision Score (%) | Recall Score (%) | F1 Score (%) |   | Precision Score (%) | Recall Score (%) | F1 Score (%) |\n",
        "| GS - Logistic Regression       |       C = 1, penalty = 'l1', random_state = 1, solver = 'saga'      |        90.27        |       93.42      |     91.82    |   |        84.76        |       97.80     |     90.81    |\n",
        "| GS - XGBoost                   | learning_rate = 0.5, max_depth = 8, n_estimators = 52, random_state = 1 |        88.11        |       93.57      |     90.75    |   |        79.87        |       98.84      |     88.34    |\n",
        "| Baseline - Logistic Regression |                  C = 1, penalty = 'l2', solver = 'lbfgs'                 |        90.55        |       94.16      |     92.32    |   |        83.85        |       98.58      |     90.62    |\n",
        "\n",
        "\n",
        "On the basis of these results, the Baseline Logistic Regression model has the best performance, and is selected as the best model for this project.\n",
        "\n",
        "### Final Model\n",
        "\n",
        "There are certain advantages to the baseline Logistic Regression in comparison with the current Grid Search result:\n",
        "- Easier to run the LogisticRegression model with the base/default hyperparameters (no extran tuning/optimization required)\n",
        "- Much quicker to run (less time wasted waiting around for results)\n",
        "- Less computationally heavy (can be easily run on a local machine - depending on the size of the dataset)\n",
        "- Easy to interpret and evaluate (less black box models/calculations)\n",
        "\n",
        "Now that I have landed on my best/final model. Another check for the Baseline Logistic Regression is to plot out the change in the precision and recall scores based on a range of threshold values. By doing this I aim to find the optimal threhold value which would lead to the highest recall rate.\n",
        "\n",
        "Lets save the best model to a pickle file using joblib:"
      ]
    },
    {
      "cell_type": "code",
      "execution_count": 56,
      "metadata": {
        "colab": {
          "base_uri": "https://localhost:8080/"
        },
        "id": "ed7uIOnmXV4f",
        "outputId": "0677ac7b-0928-417e-9405-e32a6a868765"
      },
      "outputs": [
        {
          "data": {
            "text/plain": [
              "['/content/drive/MyDrive/Data Science Bootcamp/Capstone/Spam Detection/Final Submission/pickled_best_final_logreg.pkl']"
            ]
          },
          "execution_count": 56,
          "metadata": {},
          "output_type": "execute_result"
        }
      ],
      "source": [
        "# To \"pickle\" things, like accuracies or even an entire fitted model, import the joblib library\n",
        "import joblib\n",
        "\n",
        "# Saving the best final model - baseline logistic regression\n",
        "joblib.dump(baseline_logreg, '/content/drive/MyDrive/Data Science Bootcamp/Capstone/Spam Detection/Final Submission/pickled_best_final_logreg.pkl')"
      ]
    },
    {
      "cell_type": "markdown",
      "metadata": {
        "id": "uTaae6E4YCo_"
      },
      "source": [
        "Now that the best final model have been saved/pickled. Lets plot the the threshold check:"
      ]
    },
    {
      "cell_type": "code",
      "execution_count": 57,
      "metadata": {
        "colab": {
          "base_uri": "https://localhost:8080/",
          "height": 355
        },
        "id": "DB7r81MkpRy3",
        "outputId": "30882530-5eb4-4d1e-ac17-ba3a454f9716"
      },
      "outputs": [
        {
          "data": {
            "image/png": "[encoded data removed]",
            "text/plain": [
              "<Figure size 720x360 with 1 Axes>"
            ]
          },
          "metadata": {},
          "output_type": "display_data"
        }
      ],
      "source": [
        "# Vary thresholds by 0.05 from 0.05 to 0.95\n",
        "thresholds = np.arange(0, 1, 0.05)\n",
        "\n",
        "precisions = list()\n",
        "recalls = list()\n",
        "\n",
        "for threshold in thresholds:\n",
        "\n",
        "    # Apply threshold\n",
        "    y_threshold = np.where(y_proba_logreg_base > threshold, 1, 0)\n",
        "    \n",
        "    # Calculate precision and recall\n",
        "    precision = precision_score(y_test, y_threshold)\n",
        "    recall = recall_score(y_test, y_threshold)\n",
        "    \n",
        "    # Append to list\n",
        "    precisions.append(precision)\n",
        "    recalls.append(recall)\n",
        "\n",
        "# Visualize the result\n",
        "plt.figure(figsize=(10, 5))\n",
        "plt.plot(thresholds, precisions, label='precision', marker='o')\n",
        "plt.plot(thresholds, recalls, label='recall', marker='o')\n",
        "plt.xlim(0, 1)\n",
        "plt.xlabel('threshold')\n",
        "plt.ylabel('score')\n",
        "plt.title('Variance of Recall/Precision Scores based on Threshold value')\n",
        "plt.legend()\n",
        "\n",
        "#Saving the plot for Capstone Report\n",
        "plt.savefig('/content/drive/MyDrive/Data Science Bootcamp/Capstone/Spam Detection/Final Submission/Variance of Recall-Precision Scores based on Threshold value.jpeg', bbox_inches='tight')\n",
        "\n",
        "plt.show()"
      ]
    },
    {
      "cell_type": "markdown",
      "metadata": {
        "id": "23HyAa99x77L"
      },
      "source": [
        "From the plot above, it looks like that the optimal threshold value might be between 0.2 and 0.4. \n",
        "\n",
        "Deciding the final threshold would depend on a few real-world factors such as:\n",
        "- Industry or Company standard (what is the min % of spam to be caught)\n",
        "- The cost associated with misclassifying a real review for spam and vice versa\n",
        "\n",
        "As a final check for comparing the true positive rates (TPR - how many spam reviews are correctly being classified as spam AKA recall) and false positive rates (FPR - how many real reviews are being misclassified as spam), the Receiver Operating Characteristic (ROC) curve will be plot.\n",
        "\n",
        "Via the ROC Curve I aim to check the Area Under the Curve (AUC) value which represents how well the model is able to distinguish between the real and spam reviews.\n",
        "\n",
        "AUC Score definition:\n",
        "- 1 = model is perfectly able to distinguish between real and spam reviews\n",
        "- 0.5 = model is unable to distinguish between real and spam reviews\n",
        "- 0 = the model is predicting all real reviews as spam and vice versa\n",
        "\n",
        "Lets plot the ROC-AUC now:"
      ]
    },
    {
      "cell_type": "code",
      "execution_count": 59,
      "metadata": {
        "colab": {
          "base_uri": "https://localhost:8080/",
          "height": 336
        },
        "id": "ft9pyfoQwpss",
        "outputId": "ddc75a4d-1e0b-4083-883f-7da68d2d2ece"
      },
      "outputs": [
        {
          "data": {
            "image/png": "[encoded data removed]",
            "text/plain": [
              "<Figure size 432x288 with 1 Axes>"
            ]
          },
          "metadata": {},
          "output_type": "display_data"
        },
        {
          "name": "stdout",
          "output_type": "stream",
          "text": [
            "Test AUC score: 0.9433393644010425\n",
            "RemainderAUC score: 0.9546528678361192\n"
          ]
        }
      ],
      "source": [
        "# Import the ROC and AUC libraries\n",
        "from sklearn.metrics import roc_curve, roc_auc_score\n",
        "\n",
        "# Get class predictions\n",
        "y_proba_base_logreg_test = baseline_logreg.predict_proba(X_test_scaled)[:,1]\n",
        "y_proba_base_logreg_rem = baseline_logreg.predict_proba(X_remainder_scaled)[:,1]\n",
        "\n",
        "# Set-up the FPR, TPR, and thresholds\n",
        "fprs, tprs, thresholds = roc_curve(y_test.values.ravel(), y_proba_base_logreg_test)\n",
        "roc_auc = roc_auc_score(y_test.values.ravel(), y_proba_base_logreg_test)\n",
        "fprs_rem, tprs_rem, thresholds_rem = roc_curve(y_remainder, y_proba_base_logreg_rem)\n",
        "roc_auc_rem = roc_auc_score(y_remainder, y_proba_base_logreg_rem)\n",
        "  \n",
        "# Plot the ROC curve.\n",
        "plt.figure()\n",
        "plt.plot(fprs_rem, tprs_rem, color='darkorange', lw=2, label='remainder')\n",
        "plt.plot(fprs, tprs, lw=2, label='test')\n",
        "plt.plot([0, 1], [0, 1], color='navy', lw=2, linestyle='--')\n",
        "plt.xlabel('False Positive Rate')\n",
        "plt.ylabel('True Positive Rate')\n",
        "plt.title('ROC and AUC')\n",
        "plt.legend(loc=\"best\")\n",
        "\n",
        "#Saving the plot for Capstone Report\n",
        "plt.savefig('/content/drive/MyDrive/Data Science Bootcamp/Capstone/Spam Detection/Final Submission/ROC and AUC - Best Model.jpeg', bbox_inches='tight')\n",
        "\n",
        "plt.show()\n",
        "print(f\"Test AUC score: {roc_auc}\")\n",
        "print(f\"RemainderAUC score: {roc_auc_rem}\")"
      ]
    },
    {
      "cell_type": "markdown",
      "metadata": {
        "id": "bBmczIwzB2ai"
      },
      "source": [
        "Based on the AUC score, there is a ~0.95 probability that the classifier will correctly classify a randomly chosen spam review. This is a great result, indicating that the model will perform very well for the spam detection."
      ]
    },
    {
      "cell_type": "markdown",
      "metadata": {
        "id": "xLRRmEo_DvMx"
      },
      "source": [
        "# 6 - Conclusion\n",
        "\n",
        "Based on all the advanced modelling conducted in this notebook, the Baseline LogisticRegression model with the default hyperparameters was the most successful at classifying the real and spam reviews.\n",
        "\n",
        "Best Model Parameters:\n",
        "\n",
        "| Model                          |         Default Model Parameters        | Remainder Accuracy (%) | Test Accuracy (%) |\n",
        "|--------------------------------|:---------------------------------------:|:----------------------:|:-----------------:|\n",
        "| Baseline - Logistic Regression | C = 1, penalty = 'l2', solver = 'lbfgs' |          90.03         |       88.98       |\n",
        "\n",
        "Future Steps:\n",
        "- Search for less biased data\n",
        "- Engineer some features from the dataset\n",
        "- Conduct a WordEmbedding analysis\n",
        "- Run an ML Pipeline with GridSearch on a wider array or models and hyperparameters (possibly via AWS due to computational limits with local machine)\n"
      ]
    },
    {
      "cell_type": "code",
      "execution_count": null,
      "metadata": {
        "id": "mjcxuCBu7Uaz"
      },
      "outputs": [],
      "source": []
    }
  ],
  "metadata": {
    "colab": {
      "provenance": []
    },
    "kernelspec": {
      "display_name": "Python 3.8.15 ('boosting')",
      "language": "python",
      "name": "python3"
    },
    "language_info": {
      "codemirror_mode": {
        "name": "ipython",
        "version": 3
      },
      "file_extension": ".py",
      "mimetype": "text/x-python",
      "name": "python",
      "nbconvert_exporter": "python",
      "pygments_lexer": "ipython3",
      "version": "3.8.15"
    },
    "orig_nbformat": 4,
    "vscode": {
      "interpreter": {
        "hash": "603a23d917484d75683c94657fe74cbb7f2130a06b731df4d3148275c18d3d4d"
      }
    }
  },
  "nbformat": 4,
  "nbformat_minor": 0
}
